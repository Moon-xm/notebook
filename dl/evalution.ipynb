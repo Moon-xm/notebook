{
 "cells": [
  {
   "cell_type": "markdown",
   "metadata": {},
   "source": [
    "# 模型评价标准"
   ]
  },
  {
   "cell_type": "markdown",
   "metadata": {},
   "source": [
    "## 一些基础的定义\n",
    "\n",
    "- TP(True Positives)：预测为正样本，实际上也为正样本的样本数；\n",
    "- FP(False Positives)：预测为正样本，实际上为负样本的样本数；\n",
    "- TN(True Negatives)：预测为负样本，实际上也为负样本的样本数；\n",
    "- FN(False Negatives)：预测为负样本，实际上为正样本的样本数。"
   ]
  },
  {
   "cell_type": "markdown",
   "metadata": {},
   "source": [
    "## 分类模型的评价指标\n",
    "\n",
    "### 准确率(Accuracy)"
   ]
  },
  {
   "cell_type": "markdown",
   "metadata": {},
   "source": [
    "所有预测准确的样本占总体样本的比例\n",
    "$$\n",
    "Accuracy = \\frac{TP + TN}{TP + FP + TN + FN}\n",
    "$$"
   ]
  },
  {
   "cell_type": "markdown",
   "metadata": {},
   "source": [
    "### 精确率(Precision)\n",
    "\n",
    "正确预测为正的样本占所有预测为正的比例\n",
    "$$\n",
    "Precision = \\frac{TP}{TP + FP}\n",
    "$$"
   ]
  },
  {
   "cell_type": "markdown",
   "metadata": {},
   "source": [
    "### 召回率(Recall)\n",
    "\n",
    "正确预测为正的样本占所有实际为正的比例\n",
    "$$\n",
    "Recall = \\frac{TP}{TP + FN}\n",
    "$$"
   ]
  },
  {
   "cell_type": "markdown",
   "metadata": {},
   "source": [
    "### F1-score\n",
    "\n",
    "$$\n",
    "F1 = \\frac{2\\times precision \\times recall}{precision + recall}\n",
    "$$"
   ]
  },
  {
   "cell_type": "markdown",
   "metadata": {},
   "source": [
    "### TPR(True Positive Rate)\n",
    "\n",
    "所有正样本中被分类为正的样本比例,等同于召回率\n",
    "$$\n",
    "TPR = \\frac{TP}{TP + FN}\n",
    "$$"
   ]
  },
  {
   "cell_type": "markdown",
   "metadata": {},
   "source": [
    "### FPR(False Positive Rate)\n",
    "\n",
    "所有负样本中被分类为正的样本比例\n",
    "$$\n",
    "FPR = \\frac{FP}{FP + TN}\n",
    "$$"
   ]
  },
  {
   "cell_type": "markdown",
   "metadata": {},
   "source": [
    "### ROC and AUC\n",
    "\n",
    "在许多分类模型中，产生的是一个概率预测值，然后将这个概率预测值与一个提前设定好的分类阈值进行比较，大于该阈值则认为是正例，小于该阈值则认为是负例。如果对所有的排序结果按照概率值进行降序排序，那么阈值可以将结果截断为两部分，前面的认为是正例，后面的认为是负例。我们可以根据实际任务的需要选取不同的阈值。如果重视精确率，我们可以设定一个很高的阈值，如果更重视召回率，可以设定一个很低的阈值。"
   ]
  },
  {
   "cell_type": "markdown",
   "metadata": {},
   "source": [
    "阈值到底该设定为多少呢？有没有可以不设定阈值来直接评价我们的模型性能的方法呢？\n",
    "\n",
    "ROC全称是“受试者工作特征”，（receiver operating characteristic）。我们根据模型的预测结果进行排序，然后按此顺序逐个把样本作为正例进行预测，每次计算出两个重要的值，分别以这两个值作为横纵坐标作图，就得到了ROC曲线。"
   ]
  },
  {
   "cell_type": "markdown",
   "metadata": {},
   "source": [
    "ROC曲线的横轴为FPR；纵轴为TPR\n",
    "\n",
    "ROC计算过程如下：\n",
    "\n",
    "1. 首先每个样本都需要有一个label值，并且还需要一个预测的分数\n",
    "2. 然后按这个score对样本由大到小进行排序，假设这些数据位于表格中的一列，从上到下依次降序;\n",
    "3. 现在从上到下按照样本点的取值进行划分，位于分界点上面的我们把它归为预测为正样本，位于分界点下面的归为负样本;\n",
    "4. 分别计算出此时的TPR和FPR，然后在图中绘制（FPR, TPR）点。\n",
    "\n",
    "![roc](imgs/eva1.gif)"
   ]
  },
  {
   "cell_type": "markdown",
   "metadata": {},
   "source": [
    "显然，ROC曲线的横纵坐标都在[0,1]之间，自然ROC曲线的面积不大于1。现在我们来分析几个**特殊情况**，从而更好地掌握**ROC曲线的性质**： \n",
    "\n",
    "- (0,0)：假阳率和真阳率都为0，即分类器全部预测成负样本 \n",
    "- (0,1)：假阳率为0，真阳率为1，全部完美预测正确\n",
    "- (1,0)：假阳率为1，真阳率为0，全部完美预测错误\n",
    "-  (1,1)：假阳率和真阳率都为1，即分类器全部预测成正样本 \n",
    "- TPR＝FPR，斜对角线，预测为正样本的结果一半是对的，一半是错的，代表随机分类器的预测效果\n",
    "\n",
    "于是，我们可以得到基本的结论：**ROC曲线在斜对角线以下，则表示该分类器效果差于随机分类器，反之，效果好于随机分类器，当然，我们希望ROC曲线尽量处于斜对角线以上，也就是向左上角（0,1）。** \n",
    "\n",
    "AUC(Area Under the ROC curve)就是出于ROC曲线下方的面积(通常使用积分求得)，这个面积越大说明模型的性能越优越"
   ]
  },
  {
   "cell_type": "markdown",
   "metadata": {},
   "source": [
    "## 回归模型的评价指标"
   ]
  },
  {
   "cell_type": "markdown",
   "metadata": {},
   "source": [
    "### 平均绝对误差(MAE)\n",
    "\n",
    "$$\n",
    "MAE(y, \\hat{y}) =\\frac{1}{n}\\displaystyle\\sum_{i = 1}^n |y_i - \\hat{y}_i|\n",
    "$$"
   ]
  },
  {
   "cell_type": "markdown",
   "metadata": {},
   "source": [
    "### 均方误差(MSE)\n",
    "\n",
    "$$\n",
    "MSE(y, \\hat{y}) =\\frac{1}{n}\\displaystyle\\sum_{i = 1}^n (y_i - \\hat{y}_i)^2\n",
    "$$"
   ]
  },
  {
   "cell_type": "markdown",
   "metadata": {},
   "source": [
    "### 均方根误差(RMSE)\n",
    "\n",
    "$$\n",
    "RMSE(y, \\hat{y}) =\\sqrt{\\frac{1}{n}\\displaystyle\\sum_{i = 1}^n (y_i - \\hat{y}_i)^2}\n",
    "$$"
   ]
  },
  {
   "cell_type": "markdown",
   "metadata": {},
   "source": [
    "### 均方对数误差(MSLE)\n",
    "\n",
    "$$\n",
    "MSLE(y, \\hat{y}) =\\frac{1}{n}\\displaystyle\\sum_{i = 1}^n\\big(log(1 + y_i) - log(1 + \\hat{y}_i)\\big)^2\n",
    "$$"
   ]
  }
 ],
 "metadata": {
  "kernelspec": {
   "display_name": "deeplearning",
   "language": "python",
   "name": "deeplearning"
  },
  "language_info": {
   "codemirror_mode": {
    "name": "ipython",
    "version": 3
   },
   "file_extension": ".py",
   "mimetype": "text/x-python",
   "name": "python",
   "nbconvert_exporter": "python",
   "pygments_lexer": "ipython3",
   "version": "3.7.6"
  }
 },
 "nbformat": 4,
 "nbformat_minor": 4
}
