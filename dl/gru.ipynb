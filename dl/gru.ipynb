{
 "cells": [
  {
   "cell_type": "markdown",
   "metadata": {},
   "source": [
    "# Gated Recurrent Unit"
   ]
  },
  {
   "cell_type": "markdown",
   "metadata": {},
   "source": [
    "GRU是一种比[LSTM](lstm.ipynb)更简单的循环神经网络。\n",
    "\n",
    "与LSTM不同的是，GRU没有额外的记忆单元。它是在[RNN](rnn.ipynb)公式(27)的基础上引入了一个更新门来控制当前状态需要从历史状态中保留多少信息，以及候选状态中接收多少新信息。"
   ]
  },
  {
   "cell_type": "markdown",
   "metadata": {},
   "source": [
    "GRU的更新门为如下表达式\n",
    "$$\n",
    "z_t = \\sigma\\left(W_zx_t + U_zh_{t - 1} + b_z\\right)\\tag{1}\n",
    "$$"
   ]
  },
  {
   "cell_type": "markdown",
   "metadata": {},
   "source": [
    "对外输出状态为\n",
    "$$\n",
    "h_t = z_t\\odot h_{t - 1} + (1 - z_t)\\odot\\tilde{h}_t\\tag{2}\n",
    "$$"
   ]
  },
  {
   "cell_type": "markdown",
   "metadata": {},
   "source": [
    "公式(2)中的$\\tilde{h}_t$表示当前时刻的候选状态,它的表达式为\n",
    "$$\n",
    "\\tilde{h}_t = \\text{tanh}\\left(W_hx_t + U_h(r_t\\odot h_{t - 1}) + b_h \\right)\\tag{3}\n",
    "$$"
   ]
  },
  {
   "cell_type": "markdown",
   "metadata": {},
   "source": [
    "公式(3)中的$r_t$为重置门,其表达式为\n",
    "$$\n",
    "r_t = \\sigma\\left(W_rx_t + U_rh_{t - 1} + b_r \\right)\\tag{4}\n",
    "$$"
   ]
  },
  {
   "cell_type": "markdown",
   "metadata": {},
   "source": [
    "当$r_t = 0$时，候选状态$\\tilde{h}_t = \\text{tanh}(Wx_t + b)$只和当前输入$x_t$相关，和历史状态无关. 当$r_t = 1$时，候选状态$\\tilde{h}_t = \\text{tanh}(W_hx_t + U_hh_{t - 1} + b_h)$和简单循环网络一致."
   ]
  },
  {
   "cell_type": "markdown",
   "metadata": {},
   "source": [
    "可以看出，当$z_t = 0, r_t = 1$时，GRU 网络退化为简单循环网络；若$z_t = 0, r_t = 0$时，当前状态$h_t$只和当前输入$x_t$相关，和历史状态无关. 当$z_t = 1$时，当前状态$h_t = h_{t-1}$ 等于上一时刻状态$h_{t - 1}$，和当前输入$x_t$无关."
   ]
  },
  {
   "cell_type": "markdown",
   "metadata": {},
   "source": [
    "GRU的循环单元的结构可以表示为下图\n",
    "\n",
    "![GRU Unit](imgs/gru1.png)"
   ]
  }
 ],
 "metadata": {
  "kernelspec": {
   "display_name": "deeplearning",
   "language": "python",
   "name": "deeplearning"
  },
  "language_info": {
   "codemirror_mode": {
    "name": "ipython",
    "version": 3
   },
   "file_extension": ".py",
   "mimetype": "text/x-python",
   "name": "python",
   "nbconvert_exporter": "python",
   "pygments_lexer": "ipython3",
   "version": "3.7.6"
  }
 },
 "nbformat": 4,
 "nbformat_minor": 4
}
