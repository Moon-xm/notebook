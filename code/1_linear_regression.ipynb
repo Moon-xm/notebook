{
 "cells": [
  {
   "cell_type": "markdown",
   "metadata": {},
   "source": [
    "# Linear Regression实践\n",
    "基于Pytorch框架，运用梯度下降法更新参数，得到一个线性回归模型$y = wx + b$"
   ]
  },
  {
   "cell_type": "code",
   "execution_count": 1,
   "metadata": {},
   "outputs": [],
   "source": [
    "import torch\n",
    "import torch.nn as nn\n",
    "import numpy as np\n",
    "import torch.utils.data as data\n",
    "import matplotlib.pyplot as plt"
   ]
  },
  {
   "cell_type": "code",
   "execution_count": 2,
   "metadata": {},
   "outputs": [],
   "source": [
    "# 定义一系列的超参数\n",
    "NUM_INPUT = 2     # 输入样本的维度\n",
    "NUM_SAMPLE = 1000 # 样本的数量\n",
    "BATCH_SIZE = 10   # batch size\n",
    "W = [1, 2]        # 真实的参数\n",
    "B = 3             # 真实的偏置\n",
    "EPOCH = 5         # 训练迭代轮数"
   ]
  },
  {
   "cell_type": "code",
   "execution_count": 3,
   "metadata": {},
   "outputs": [],
   "source": [
    "# 根据上一单元格设定的一些超参数，生成训练样本\n",
    "features = torch.randn(NUM_SAMPLE, NUM_INPUT, dtype=torch.float)\n",
    "arg_w = torch.tensor(W, dtype=torch.float).view(2, 1)\n",
    "labels = features.mm(arg_w) + B\n",
    "labels += torch.tensor(np.random.normal(0, 0.005, size=labels.size()), dtype=torch.float)"
   ]
  },
  {
   "cell_type": "code",
   "execution_count": 4,
   "metadata": {},
   "outputs": [
    {
     "data": {
      "image/png": "[encoded data removed]",
      "text/plain": [
       "<Figure size 720x576 with 1 Axes>"
      ]
     },
     "metadata": {
      "needs_background": "light"
     },
     "output_type": "display_data"
    }
   ],
   "source": [
    "# 我们可以看一下输入的第二个维度与对应值得线性关系\n",
    "plt.figure(figsize=(10, 8))\n",
    "plt.scatter(features[:, 1].numpy(), labels.numpy(), 1)\n",
    "plt.show()"
   ]
  },
  {
   "cell_type": "code",
   "execution_count": 5,
   "metadata": {},
   "outputs": [],
   "source": [
    "# 根据生成的数据制作可迭代的的批数据集\n",
    "dataset = data.TensorDataset(features, labels)\n",
    "data_iter = data.DataLoader(dataset, BATCH_SIZE, shuffle=True)"
   ]
  },
  {
   "cell_type": "code",
   "execution_count": 6,
   "metadata": {},
   "outputs": [
    {
     "name": "stdout",
     "output_type": "stream",
     "text": [
      "LinearNet(\n",
      "  (linear): Linear(in_features=2, out_features=1, bias=True)\n",
      ")\n"
     ]
    }
   ],
   "source": [
    "# 定义线性回归模型\n",
    "class LinearNet(nn.Module):\n",
    "    def __init__(self, num_feature):\n",
    "        super(LinearNet, self).__init__()\n",
    "        self.linear = nn.Linear(num_feature, 1)\n",
    "        nn.init.normal_(self.linear.weight, mean=0, std=0.01)\n",
    "        nn.init.constant_(self.linear.bias, val=0)\n",
    "        \n",
    "    def forward(self, x):\n",
    "        return self.linear(x)\n",
    "\n",
    "model = LinearNet(NUM_INPUT)\n",
    "print(model)"
   ]
  },
  {
   "cell_type": "code",
   "execution_count": 7,
   "metadata": {},
   "outputs": [
    {
     "name": "stdout",
     "output_type": "stream",
     "text": [
      "SGD (\n",
      "Parameter Group 0\n",
      "    dampening: 0\n",
      "    lr: 0.005\n",
      "    momentum: 0\n",
      "    nesterov: False\n",
      "    weight_decay: 0\n",
      ")\n"
     ]
    }
   ],
   "source": [
    "# 使用MSE做为损失函数\n",
    "loss = nn.MSELoss()\n",
    "# 使用SGD作为优化器\n",
    "optimizer = torch.optim.SGD(model.parameters(), lr = 0.005)\n",
    "print(optimizer)"
   ]
  },
  {
   "cell_type": "code",
   "execution_count": 8,
   "metadata": {},
   "outputs": [
    {
     "name": "stdout",
     "output_type": "stream",
     "text": [
      "epoch 0, loss: 1.7541488409042358\n",
      "epoch 1, loss: 0.29283028841018677\n",
      "epoch 2, loss: 0.02803996205329895\n",
      "epoch 3, loss: 0.002806972712278366\n",
      "epoch 4, loss: 0.0016372613608837128\n"
     ]
    }
   ],
   "source": [
    "for epoch in range(EPOCH):\n",
    "    for x, y in data_iter:\n",
    "        output = model(x)\n",
    "        l = loss(output, y.view(-1, 1))\n",
    "        optimizer.zero_grad()\n",
    "        l.backward()\n",
    "        optimizer.step()\n",
    "    print(\"epoch {}, loss: {}\".format(epoch, l.item()))"
   ]
  },
  {
   "cell_type": "code",
   "execution_count": 9,
   "metadata": {},
   "outputs": [
    {
     "name": "stdout",
     "output_type": "stream",
     "text": [
      "model weight: [[0.9885632 1.9799343]], bias: [2.977579]\n"
     ]
    }
   ],
   "source": [
    "print(\"model weight: {}, bias: {}\".format(model.linear.weight.detach().numpy(),\n",
    "                                          model.linear.bias.detach().numpy()))"
   ]
  }
 ],
 "metadata": {
  "kernelspec": {
   "display_name": "deeplearning",
   "language": "python",
   "name": "deeplearning"
  },
  "language_info": {
   "codemirror_mode": {
    "name": "ipython",
    "version": 3
   },
   "file_extension": ".py",
   "mimetype": "text/x-python",
   "name": "python",
   "nbconvert_exporter": "python",
   "pygments_lexer": "ipython3",
   "version": "3.7.6"
  }
 },
 "nbformat": 4,
 "nbformat_minor": 4
}
