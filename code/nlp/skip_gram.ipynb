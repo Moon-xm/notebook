{
 "cells": [
  {
   "cell_type": "markdown",
   "metadata": {},
   "source": [
    "# Skip gram示例\n",
    "\n",
    "一下代码使用的公式可以在[Word Embedding](../../nlp/word_embedding.ipynb)\n",
    "\n",
    "代码实现参考[知乎文章](https://zhuanlan.zhihu.com/p/82683575)"
   ]
  },
  {
   "cell_type": "code",
   "execution_count": 1,
   "metadata": {},
   "outputs": [],
   "source": [
    "import numpy as np\n",
    "import torch\n",
    "from torch import nn, optim\n",
    "import random\n",
    "from collections import Counter\n",
    "import matplotlib.pyplot as plt"
   ]
  },
  {
   "cell_type": "code",
   "execution_count": 2,
   "metadata": {},
   "outputs": [],
   "source": [
    "text = \"\"\"\n",
    "Give me the strength lightly to bear my joys and sorrows \n",
    "Give me the strength to make my love fruitful in service Give me \n",
    "the strength never to disown the poor or bend my knees before \n",
    "insolent might Give me the strength to raise my mind high above \n",
    "daily trifles And give me the strength to surrender my strength \n",
    "to thy will with love\n",
    "\"\"\""
   ]
  },
  {
   "cell_type": "code",
   "execution_count": 3,
   "metadata": {},
   "outputs": [],
   "source": [
    "#参数设置\n",
    "EMBEDDING_DIM = 2    #词向量维度\n",
    "PRINT_EVERY = 1000   #可视化频率\n",
    "EPOCHS = 1000        #训练的轮数\n",
    "BATCH_SIZE = 5       #每一批训练数据大小\n",
    "N_SAMPLES = 3        #负样本大小\n",
    "WINDOW_SIZE = 5      #周边词窗口大小\n",
    "FREQ = 0             #词汇出现频率\n",
    "DELETE_WORDS = False #是否删除部分高频词"
   ]
  },
  {
   "cell_type": "code",
   "execution_count": 4,
   "metadata": {},
   "outputs": [],
   "source": [
    "#文本预处理\n",
    "def preprocess(text: str, FREQ):\n",
    "    text = text.replace(\"\\n\", \"\").lower()\n",
    "    words = text.split()\n",
    "    #去除低频词\n",
    "    word_counts = Counter(words)\n",
    "    return [word for word in words if word_counts[word] > FREQ]\n",
    "\n",
    "words = preprocess(text, FREQ)\n",
    "\n",
    "#构建词典\n",
    "vocab = set(words)\n",
    "vocab2int = {w: c for c, w in enumerate(vocab)}\n",
    "int2vocab = {c: w for c, w in enumerate(vocab)}\n",
    "\n",
    "#将文本转化为数值\n",
    "int_words = [vocab2int[w] for w in words]\n",
    "\n",
    "#计算单词频次\n",
    "int_word_counts = Counter(int_words)\n",
    "total_count = len(int_words)\n",
    "word_freqs = {w: c/total_count for w, c in int_word_counts.items()}\n",
    "\n",
    "#去除出现频次高的词汇\n",
    "if DELETE_WORDS:\n",
    "    t = 1e-5\n",
    "    prob_drop = {w: 1-np.sqrt(t/word_freqs[w]) for w in int_word_counts}\n",
    "    train_words = [w for w in int_words if random.random()<(1-prob_drop[w])]\n",
    "else:\n",
    "    train_words = int_words"
   ]
  },
  {
   "cell_type": "code",
   "execution_count": 5,
   "metadata": {},
   "outputs": [],
   "source": [
    "word_freqs = np.array(list(word_freqs.values()))\n",
    "unigram_dist = word_freqs / word_freqs.sum()\n",
    "noise_dist = torch.from_numpy(unigram_dist ** (0.75) / np.sum(unigram_dist ** (0.75)))"
   ]
  },
  {
   "cell_type": "code",
   "execution_count": 6,
   "metadata": {},
   "outputs": [],
   "source": [
    "#获取目标词汇\n",
    "def get_target(words, idx, WINDOW_SIZE):\n",
    "    target_window = np.random.randint(1, WINDOW_SIZE+1)\n",
    "    start_point = idx-target_window if (idx-target_window)>0 else 0\n",
    "    end_point = idx+target_window\n",
    "    targets = set(words[start_point:idx]+words[idx+1:end_point+1])\n",
    "    return list(targets)\n",
    "\n",
    "#批次化数据\n",
    "def get_batch(words, BATCH_SIZE, WINDOW_SIZE):\n",
    "    n_batches = len(words)//BATCH_SIZE\n",
    "    words = words[:n_batches*BATCH_SIZE]\n",
    "    for idx in range(0, len(words), BATCH_SIZE):\n",
    "        batch_x, batch_y = [],[]\n",
    "        batch = words[idx:idx+BATCH_SIZE]\n",
    "        for i in range(len(batch)):\n",
    "            x = batch[i]\n",
    "            y = get_target(batch, i, WINDOW_SIZE)\n",
    "            batch_x.extend([x]*len(y))\n",
    "            batch_y.extend(y)\n",
    "        yield batch_x, batch_y"
   ]
  },
  {
   "cell_type": "code",
   "execution_count": 7,
   "metadata": {},
   "outputs": [],
   "source": [
    "class SkipGramNeg(nn.Module):\n",
    "    def __init__(self, n_vocab, n_embed, noise_dist):\n",
    "        super().__init__()\n",
    "        self.n_vocab = n_vocab\n",
    "        self.n_embed = n_embed\n",
    "        self.noise_dist = noise_dist\n",
    "        #定义词向量层\n",
    "        self.in_embed = nn.Embedding(n_vocab, n_embed)\n",
    "        self.out_embed = nn.Embedding(n_vocab, n_embed)\n",
    "        #词向量层参数初始化\n",
    "        self.in_embed.weight.data.uniform_(-1, 1)\n",
    "        self.out_embed.weight.data.uniform_(-1, 1)\n",
    "    #输入词的前向过程\n",
    "    def forward_input(self, input_words):\n",
    "        input_vectors = self.in_embed(input_words)\n",
    "        return input_vectors\n",
    "    #目标词的前向过程\n",
    "    def forward_output(self, output_words):\n",
    "        output_vectors = self.out_embed(output_words)\n",
    "        return output_vectors\n",
    "    #负样本词的前向过程\n",
    "    def forward_noise(self, size, N_SAMPLES):\n",
    "        noise_dist = self.noise_dist\n",
    "        #从词汇分布中采样负样本\n",
    "        noise_words = torch.multinomial(noise_dist,\n",
    "                                        size * N_SAMPLES,\n",
    "                                        replacement=True)\n",
    "        noise_vectors = self.out_embed(noise_words).view(size, N_SAMPLES, self.n_embed)\n",
    "        return noise_vectors"
   ]
  },
  {
   "cell_type": "code",
   "execution_count": 8,
   "metadata": {},
   "outputs": [],
   "source": [
    "class NegativeSamplingLoss(nn.Module):\n",
    "    def __init__(self):\n",
    "        super().__init__()\n",
    "\n",
    "    def forward(self, input_vectors, output_vectors, noise_vectors):\n",
    "        BATCH_SIZE, embed_size = input_vectors.shape\n",
    "        #将输入词向量与目标词向量作维度转化处理\n",
    "        input_vectors = input_vectors.view(BATCH_SIZE, embed_size, 1)\n",
    "        output_vectors = output_vectors.view(BATCH_SIZE, 1, embed_size)\n",
    "        #目标词损失\n",
    "        test = torch.bmm(output_vectors, input_vectors)\n",
    "        out_loss = torch.bmm(output_vectors, input_vectors).sigmoid().log()\n",
    "        out_loss = out_loss.squeeze()\n",
    "        #负样本损失\n",
    "        noise_loss = torch.bmm(noise_vectors.neg(), input_vectors).sigmoid().log()\n",
    "        noise_loss = noise_loss.squeeze().sum(1)\n",
    "        #综合计算两类损失\n",
    "        return -(out_loss + noise_loss).mean()"
   ]
  },
  {
   "cell_type": "code",
   "execution_count": 9,
   "metadata": {},
   "outputs": [
    {
     "name": "stdout",
     "output_type": "stream",
     "text": [
      "loss： 1.7468403577804565\n",
      "loss： 1.867253303527832\n",
      "loss： 1.2688109874725342\n",
      "loss： 1.5140713453292847\n",
      "loss： 1.7618025541305542\n",
      "loss： 1.3929388523101807\n",
      "loss： 1.440144419670105\n",
      "loss： 2.0400619506835938\n",
      "loss： 1.1393812894821167\n",
      "loss： 1.3181675672531128\n",
      "loss： 1.5457394123077393\n",
      "loss： 1.1019389629364014\n"
     ]
    }
   ],
   "source": [
    "#模型、损失函数及优化器初始化\n",
    "model = SkipGramNeg(len(vocab2int), EMBEDDING_DIM, noise_dist=noise_dist)\n",
    "criterion = NegativeSamplingLoss()\n",
    "optimizer = optim.Adam(model.parameters(), lr=0.003)\n",
    "\n",
    "#训练\n",
    "steps = 0\n",
    "for e in range(EPOCHS):\n",
    "    #获取输入词以及目标词\n",
    "    for input_words, target_words in get_batch(train_words, BATCH_SIZE, WINDOW_SIZE):\n",
    "        steps += 1\n",
    "        inputs, targets = torch.LongTensor(input_words), torch.LongTensor(target_words)\n",
    "        #输入、输出以及负样本向量\n",
    "        input_vectors = model.forward_input(inputs)\n",
    "        output_vectors = model.forward_output(targets)\n",
    "        size, _ = input_vectors.shape\n",
    "        noise_vectors = model.forward_noise(size, N_SAMPLES)\n",
    "        #计算损失\n",
    "        loss = criterion(input_vectors, output_vectors, noise_vectors)\n",
    "        #打印损失\n",
    "        if steps%PRINT_EVERY == 0:\n",
    "            print(\"loss：\",loss.item())\n",
    "        #梯度回传\n",
    "        optimizer.zero_grad()\n",
    "        loss.backward()\n",
    "        optimizer.step()"
   ]
  },
  {
   "cell_type": "code",
   "execution_count": 10,
   "metadata": {},
   "outputs": [
    {
     "data": {
      "image/png": "[encoded data removed]",
      "text/plain": [
       "<Figure size 864x576 with 1 Axes>"
      ]
     },
     "metadata": {
      "needs_background": "light"
     },
     "output_type": "display_data"
    }
   ],
   "source": [
    "plt.figure(figsize=(12, 8))\n",
    "for i, w in int2vocab.items():\n",
    "    vectors = model.state_dict()[\"in_embed.weight\"]\n",
    "    x,y = float(vectors[i][0]),float(vectors[i][1])\n",
    "    plt.scatter(x,y)\n",
    "    plt.annotate(w, xy=(x, y), xytext=(5, 2), textcoords='offset points', ha='right', va='bottom')\n",
    "plt.show()"
   ]
  }
 ],
 "metadata": {
  "kernelspec": {
   "display_name": "deeplearning",
   "language": "python",
   "name": "deeplearning"
  },
  "language_info": {
   "codemirror_mode": {
    "name": "ipython",
    "version": 3
   },
   "file_extension": ".py",
   "mimetype": "text/x-python",
   "name": "python",
   "nbconvert_exporter": "python",
   "pygments_lexer": "ipython3",
   "version": "3.7.6"
  }
 },
 "nbformat": 4,
 "nbformat_minor": 4
}
