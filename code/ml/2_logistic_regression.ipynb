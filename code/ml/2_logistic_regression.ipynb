{
 "cells": [
  {
   "cell_type": "markdown",
   "metadata": {},
   "source": [
    "# Logistic Regression实践\n"
   ]
  },
  {
   "cell_type": "code",
   "execution_count": 1,
   "metadata": {},
   "outputs": [],
   "source": [
    "import torch\n",
    "import torch.nn as nn\n",
    "import numpy as np\n",
    "import torch.utils.data as data\n",
    "import matplotlib.pyplot as plt\n",
    "from sklearn.datasets import make_classification"
   ]
  },
  {
   "cell_type": "code",
   "execution_count": 2,
   "metadata": {},
   "outputs": [],
   "source": [
    "NUM_INPUT = 2     # 样本特征维度\n",
    "NUM_SAMPLE = 1000 # 生成的样本数量\n",
    "BATCH_SIZE = 10   # 批大小\n",
    "EPOCH = 100       # 训练迭代轮数"
   ]
  },
  {
   "cell_type": "code",
   "execution_count": 3,
   "metadata": {},
   "outputs": [
    {
     "data": {
      "image/png": "[encoded data removed]",
      "text/plain": [
       "<Figure size 576x432 with 1 Axes>"
      ]
     },
     "metadata": {
      "needs_background": "light"
     },
     "output_type": "display_data"
    }
   ],
   "source": [
    "\"\"\"\n",
    "使用sklearn.datasets中的make_classification函数生成1000个二分类数据\n",
    "选择random_state=7是因为它的图片看起来比较像线性可分的。\n",
    "\"\"\"\n",
    "x, y = make_classification(n_samples=NUM_SAMPLE, n_features=NUM_INPUT, \n",
    "                           n_redundant=0,random_state=7)\n",
    "# rng = np.random.RandomState(8)\n",
    "# x += rng.uniform(size=x.shape)\n",
    "unique_labels = set(y)\n",
    "colors = ['b', 'g']\n",
    "plt.figure(figsize=(8,6))\n",
    "for k, color in zip(unique_labels, colors):\n",
    "    x_k = x[y==k]\n",
    "    plt.scatter(x_k[:, 0], x_k[:, 1], c=color)\n",
    "plt.show()"
   ]
  },
  {
   "cell_type": "code",
   "execution_count": 4,
   "metadata": {},
   "outputs": [],
   "source": [
    "x = torch.tensor(x, dtype=torch.float)\n",
    "y = torch.tensor(y)\n",
    "train_dataset = data.TensorDataset(x[:800], y[:800])\n",
    "train_data_iter = data.DataLoader(train_dataset, batch_size=BATCH_SIZE, shuffle=True)\n",
    "test_dataset = data.TensorDataset(x[800:], y[800:])\n",
    "test_data_iter = data.DataLoader(test_dataset, batch_size=BATCH_SIZE, shuffle=True)"
   ]
  },
  {
   "cell_type": "code",
   "execution_count": 5,
   "metadata": {},
   "outputs": [],
   "source": [
    "class LogisticRegression(nn.Module):\n",
    "    def __init__(self):\n",
    "        super(LogisticRegression, self).__init__()\n",
    "        self.linear = nn.Linear(2, 1)\n",
    "        nn.init.normal_(self.linear.weight, mean=0, std=1)\n",
    "        \n",
    "    def forward(self, x):\n",
    "        prob = torch.sigmoid(self.linear(x)).view(-1, 1)\n",
    "        # return torch.cat((prob, 1 - prob), 1)\n",
    "        return torch.cat((1 - prob, prob), 1)\n",
    "    \n",
    "    def predict(self, x):\n",
    "        prob_result = torch.squeeze(torch.sigmoid(self.linear(x)))\n",
    "        return (prob_result > 0.5).int()"
   ]
  },
  {
   "cell_type": "code",
   "execution_count": 6,
   "metadata": {},
   "outputs": [
    {
     "name": "stdout",
     "output_type": "stream",
     "text": [
      "LogisticRegression(\n",
      "  (linear): Linear(in_features=2, out_features=1, bias=True)\n",
      ")\n",
      "Adam (\n",
      "Parameter Group 0\n",
      "    amsgrad: False\n",
      "    betas: (0.9, 0.999)\n",
      "    eps: 1e-08\n",
      "    lr: 0.04\n",
      "    weight_decay: 0\n",
      ")\n"
     ]
    }
   ],
   "source": [
    "model = LogisticRegression()\n",
    "loss = nn.CrossEntropyLoss()\n",
    "optimizer = torch.optim.Adam(model.parameters(), lr=0.04)\n",
    "print(model)\n",
    "print(optimizer)"
   ]
  },
  {
   "cell_type": "code",
   "execution_count": 7,
   "metadata": {},
   "outputs": [
    {
     "name": "stdout",
     "output_type": "stream",
     "text": [
      "epoch: 0, loss: 0.5829622745513916\n",
      "epoch: 10, loss: 0.6055007576942444\n",
      "epoch: 20, loss: 0.6221171617507935\n",
      "epoch: 30, loss: 0.5479621887207031\n",
      "epoch: 40, loss: 0.6375892758369446\n",
      "epoch: 50, loss: 0.5936776995658875\n",
      "epoch: 60, loss: 0.6206681728363037\n",
      "epoch: 70, loss: 0.6266763806343079\n",
      "epoch: 80, loss: 0.6178872585296631\n",
      "epoch: 90, loss: 0.5892415046691895\n"
     ]
    }
   ],
   "source": [
    "for epoch in range(EPOCH):\n",
    "    for x, y in train_data_iter:\n",
    "        output = model(x)\n",
    "        l = loss(output, y) + 0.1 * (model.linear.weight ** 2).sum() # 使用了L2正则\n",
    "        optimizer.zero_grad()\n",
    "        l.backward()\n",
    "        optimizer.step()\n",
    "    if epoch % 10 == 0:\n",
    "        print(\"epoch: {}, loss: {}\".format(epoch, l.item()))"
   ]
  },
  {
   "cell_type": "code",
   "execution_count": 8,
   "metadata": {},
   "outputs": [
    {
     "name": "stdout",
     "output_type": "stream",
     "text": [
      "The accuracy of the model is 0.94\n"
     ]
    }
   ],
   "source": [
    "# 使用测试集对模型进行测试，仅仅考虑了准确率单一指标\n",
    "count = torch.tensor(0)\n",
    "for x, y in test_data_iter:\n",
    "    # print(\"true label: {}\".format(y))\n",
    "    output = model.predict(x)\n",
    "    # print(\"pred label: {}\\n\".format(output))\n",
    "    count += (output == y).sum()  \n",
    "print(\"The accuracy of the model is {}\".format(count.item()/200))"
   ]
  }
 ],
 "metadata": {
  "kernelspec": {
   "display_name": "deeplearning",
   "language": "python",
   "name": "deeplearning"
  },
  "language_info": {
   "codemirror_mode": {
    "name": "ipython",
    "version": 3
   },
   "file_extension": ".py",
   "mimetype": "text/x-python",
   "name": "python",
   "nbconvert_exporter": "python",
   "pygments_lexer": "ipython3",
   "version": "3.7.6"
  }
 },
 "nbformat": 4,
 "nbformat_minor": 4
}
