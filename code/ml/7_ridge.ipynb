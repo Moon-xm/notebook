{
 "cells": [
  {
   "cell_type": "markdown",
   "metadata": {},
   "source": [
    "# Ridge Regression示例"
   ]
  },
  {
   "cell_type": "code",
   "execution_count": 1,
   "metadata": {},
   "outputs": [],
   "source": [
    "import numpy as np"
   ]
  },
  {
   "cell_type": "code",
   "execution_count": 2,
   "metadata": {},
   "outputs": [],
   "source": [
    "# 由于ridge regression可以直接使用解析表达式方法，所有其模型非常的简单\n",
    "class Ridge():\n",
    "    def __init__(self, lambd=0.2):\n",
    "        self.lambd = lambd\n",
    "        self.bias = np.random.randn(1)\n",
    "        self.w = None\n",
    "    \n",
    "    def fit(self, x, y):\n",
    "        bias_col = np.ones((x.shape[0], 1))\n",
    "        x = np.append(x, bias_col, axis=1)\n",
    "        xtx = x.T.dot(x)\n",
    "        I = np.eye(x.shape[1])\n",
    "        self.w= np.array(np.matrix(xtx + self.lambd * I).I\n",
    "                        ).dot(x.T.dot(y)).reshape(-1, 1)\n",
    "        print(self.w)\n",
    "    \n",
    "    def regression(self, x):\n",
    "        return x.dot(self.w[:-1]) + self.w[-1, 0]"
   ]
  },
  {
   "cell_type": "code",
   "execution_count": 3,
   "metadata": {},
   "outputs": [],
   "source": [
    "true_w = np.array([1, 4, 2, 3]).reshape(-1, 1)\n",
    "true_b = 5\n",
    "x = 3 * np.random.randn(1000, 4)\n",
    "y = (x.dot(true_w) + true_b).reshape(-1) + np.random.randn(x.shape[0])"
   ]
  },
  {
   "cell_type": "code",
   "execution_count": 4,
   "metadata": {},
   "outputs": [
    {
     "name": "stdout",
     "output_type": "stream",
     "text": [
      "[[1.02099295]\n",
      " [3.98127241]\n",
      " [1.98633295]\n",
      " [2.98680306]\n",
      " [5.13637508]]\n"
     ]
    }
   ],
   "source": [
    "model = Ridge()\n",
    "model.fit(x, y)"
   ]
  },
  {
   "cell_type": "code",
   "execution_count": 5,
   "metadata": {},
   "outputs": [
    {
     "data": {
      "text/plain": [
       "15.111776457834786"
      ]
     },
     "execution_count": 5,
     "metadata": {},
     "output_type": "execute_result"
    }
   ],
   "source": [
    "model.regression(np.array([1, 1, 1, 1]).reshape(-1, 4)).item()"
   ]
  }
 ],
 "metadata": {
  "kernelspec": {
   "display_name": "deeplearning",
   "language": "python",
   "name": "deeplearning"
  },
  "language_info": {
   "codemirror_mode": {
    "name": "ipython",
    "version": 3
   },
   "file_extension": ".py",
   "mimetype": "text/x-python",
   "name": "python",
   "nbconvert_exporter": "python",
   "pygments_lexer": "ipython3",
   "version": "3.7.6"
  }
 },
 "nbformat": 4,
 "nbformat_minor": 4
}
