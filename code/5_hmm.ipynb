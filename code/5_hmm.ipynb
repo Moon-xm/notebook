{
 "cells": [
  {
   "cell_type": "markdown",
   "metadata": {},
   "source": [
    "# HMM示例"
   ]
  },
  {
   "cell_type": "code",
   "execution_count": 1,
   "metadata": {},
   "outputs": [],
   "source": [
    "import numpy as np\n",
    "class HMM(object):\n",
    "    def __init__(self):\n",
    "        self.train = None    #训练集显状态序列\n",
    "        self.label = None    #训练集隐状态序列\n",
    "        self.prob = None    #全局隐状态边缘分布\n",
    "        self.trans = None    #转移矩阵(row:T时刻隐状态 col:T+1时刻隐状态)\n",
    "        self.emit = None    #发射(混淆)矩阵(row:隐状态 col:显状态)\n",
    "    \n",
    "    def fit(self,train,label):\n",
    "        '''导入训练集，生成全局隐状态边缘分布、转移矩阵以及混淆矩阵'''\n",
    "        assert isinstance(train,list)\n",
    "        assert isinstance(label,list)\n",
    "        assert len(train) == len(label)\n",
    "        self.train = train\n",
    "        self.label = label\n",
    "        self.cal_prob()\n",
    "        self.cal_trans()\n",
    "        self.cal_emit()\n",
    "        \n",
    "    def cal_prob(self):\n",
    "        '''生成全局隐状态边缘分布'''\n",
    "        prob = np.zeros(max(self.label)+1)\n",
    "        for y in set(self.label):\n",
    "            prob[y] += float(self.label.count(y)/len(self.label))\n",
    "        self.prob = np.log(prob + 1e-12)\n",
    "\n",
    "    def cal_trans(self):\n",
    "        '''生成转移矩阵'''\n",
    "        trans = np.zeros((len(set(self.label)),len(set(self.label))))\n",
    "        last = self.label[0]\n",
    "        for y in self.label[1:]:\n",
    "            trans[last,y] += 1\n",
    "            last = y\n",
    "        trans = np.array([row/row.sum() for row in trans])\n",
    "        self.trans = np.log(trans+ 1e-12)\n",
    "    \n",
    "    def cal_emit(self):\n",
    "        '''生成发射(混淆)矩阵'''\n",
    "        emit = np.zeros((len(set(self.label)),len(set(self.train))))\n",
    "        for x,y in zip(self.train,self.label):\n",
    "            emit[y,x] += 1\n",
    "        emit = np.array([row/row.sum() for row in emit])\n",
    "        self.emit = np.log(emit+ 1e-12)\n",
    "\n",
    "    def viterbi_predict(self,test):\n",
    "        '''Viterbi算法调整'''\n",
    "        assert isinstance(test,list)\n",
    "        assert len(set(test)-set(np.arange(self.emit.shape[1]))) == 0\n",
    "        seq = []\n",
    "        psi_mat = np.zeros((len(set(self.label)), len(test)))\n",
    "        pred = self.prob+self.emit[:,test[0]] \n",
    "        for t in range(1, len(test)):\n",
    "            psi_mat[:,t] = np.array([(pred+self.trans[:,y]).argmax() \n",
    "                                     for y in range(pred.shape[0])])\n",
    "            #在原模型上添加此行\n",
    "            pred = np.array([(pred+self.trans[:,y]).max()\n",
    "                             for y in range(pred.shape[0])])    \n",
    "            pred = pred+self.emit[:,test[t]]    #预测T时刻隐状态\n",
    "        last_state = pred.argmax()\n",
    "        seq.append(last_state)\n",
    "        for i in list(range(1, len(test)))[::-1]:\n",
    "            last_state = int(psi_mat[last_state,i])\n",
    "            seq.append(last_state)\n",
    "        seq.reverse()\n",
    "        return seq"
   ]
  },
  {
   "cell_type": "code",
   "execution_count": 2,
   "metadata": {},
   "outputs": [
    {
     "data": {
      "text/plain": [
       "[1, 2, 0, 1, 0, 1, 2, 1, 2, 0, 2, 0, 2, 2, 0, 1, 2, 0, 2, 0, 2]"
      ]
     },
     "execution_count": 2,
     "metadata": {},
     "output_type": "execute_result"
    }
   ],
   "source": [
    "train = [0,5,2,6,4,3,2,0,5,1,5,1,2,5,2,0,2,0,2,3,6,4,6,4,2,5,1,0,2,5]\n",
    "label = [1,0,2,1,2,1,2,2,0,2,0,1,0,0,2,1,1,2,2,0,1,2,0,2,1,2,0,0,0,1]\n",
    "test = [0,2,3,6,3,1,1,2,2,5,1,5,4,2,3,6,2,5,0,5,2]\n",
    "model = HMM()\n",
    "model.fit(train, label)    #模型训练\n",
    "model.viterbi_predict(test)"
   ]
  }
 ],
 "metadata": {
  "kernelspec": {
   "display_name": "deeplearning",
   "language": "python",
   "name": "deeplearning"
  },
  "language_info": {
   "codemirror_mode": {
    "name": "ipython",
    "version": 3
   },
   "file_extension": ".py",
   "mimetype": "text/x-python",
   "name": "python",
   "nbconvert_exporter": "python",
   "pygments_lexer": "ipython3",
   "version": "3.7.6"
  }
 },
 "nbformat": 4,
 "nbformat_minor": 4
}
