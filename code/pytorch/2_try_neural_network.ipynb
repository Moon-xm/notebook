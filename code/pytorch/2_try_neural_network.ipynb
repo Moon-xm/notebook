{
 "cells": [
  {
   "cell_type": "markdown",
   "metadata": {},
   "source": [
    "在Pytorch中，神经网络通过torch.nn包来构建。\n",
    "一个nn.Module包括层和一个forward方法，它将返回输出\n",
    "<br>\n",
    "一个典型的神经网络训练过程应该包括以下几点：\n",
    "\n",
    "    1. 定义一个可训练参数的神经网络\n",
    "    2. 迭代整个输入\n",
    "    3. 通过神经网络处理输入\n",
    "    4. 计算损失\n",
    "    5. 反向传播梯度到神经网络的参数\n",
    "    6. 更新网络的参数"
   ]
  },
  {
   "cell_type": "code",
   "execution_count": 1,
   "metadata": {},
   "outputs": [
    {
     "name": "stdout",
     "output_type": "stream",
     "text": [
      "MyModel(\n",
      "  (conv1): Conv2d(1, 6, kernel_size=(5, 5), stride=(1, 1))\n",
      "  (conv2): Conv2d(6, 16, kernel_size=(5, 5), stride=(1, 1))\n",
      "  (fc1): Linear(in_features=400, out_features=120, bias=True)\n",
      "  (fc2): Linear(in_features=120, out_features=84, bias=True)\n",
      "  (fc3): Linear(in_features=84, out_features=10, bias=True)\n",
      ")\n"
     ]
    }
   ],
   "source": [
    "# 定义一个神经网络\n",
    "import torch\n",
    "import torch.nn as nn\n",
    "import torch.nn.functional as func\n",
    "\n",
    "\n",
    "class MyModel(nn.Module):\n",
    "    \"\"\"\n",
    "    开始定义自己模型的层和方法\n",
    "    \"\"\"\n",
    "    def __init__(self):\n",
    "        super(MyModel, self).__init__()\n",
    "        self.conv1 = nn.Conv2d(1, 6, 5)\n",
    "        self.conv2 = nn.Conv2d(6, 16, 5)\n",
    "        self.fc1 = nn.Linear(16*5*5, 120)\n",
    "        self.fc2 = nn.Linear(120, 84)\n",
    "        self.fc3 = nn.Linear(84, 10)\n",
    "        \n",
    "    \n",
    "    def forward(self, x):\n",
    "        x = func.max_pool2d(func.relu(self.conv1(x)), (2, 2))\n",
    "        x = func.max_pool2d(func.relu(self.conv2(x)), (2, 2))\n",
    "        x = x.view(-1, self.num_flat_features(x))\n",
    "        x = func.relu(self.fc1(x))\n",
    "        x = func.relu(self.fc2(x))\n",
    "        return self.fc3(x)\n",
    "    \n",
    "    \n",
    "    def num_flat_features(self, x):\n",
    "        size = x.size()[1:]\n",
    "        num_features = 1\n",
    "        for s in size:\n",
    "            num_features *= s\n",
    "        return num_features\n",
    "model = MyModel()\n",
    "print(model)"
   ]
  },
  {
   "cell_type": "code",
   "execution_count": 2,
   "metadata": {},
   "outputs": [
    {
     "name": "stdout",
     "output_type": "stream",
     "text": [
      "10\n",
      "torch.Size([6, 1, 5, 5])\n",
      "torch.Size([6])\n",
      "torch.Size([16, 6, 5, 5])\n",
      "torch.Size([16])\n",
      "torch.Size([120, 400])\n",
      "torch.Size([120])\n",
      "torch.Size([84, 120])\n",
      "torch.Size([84])\n",
      "torch.Size([10, 84])\n",
      "torch.Size([10])\n"
     ]
    }
   ],
   "source": [
    "# 一个模型可训练的参数可以通过调用net.parameters()返回\n",
    "params = list(model.parameters())\n",
    "print(len(params))\n",
    "for param in params:\n",
    "    print(param.size())"
   ]
  },
  {
   "cell_type": "code",
   "execution_count": 3,
   "metadata": {},
   "outputs": [
    {
     "name": "stdout",
     "output_type": "stream",
     "text": [
      "tensor([[ 0.0717,  0.0864,  0.0768,  0.0818,  0.0466, -0.0705, -0.1025,  0.1148,\n",
      "          0.0151, -0.0563]], grad_fn=<AddmmBackward>)\n"
     ]
    }
   ],
   "source": [
    "# 让我们常识随机输入一个32 * 32的输入，注意，上述定义的网络期望的输入就是32 * 32\n",
    "\n",
    "test_data = torch.randn(1, 1, 32, 32)\n",
    "out = model(test_data)\n",
    "print(out)"
   ]
  },
  {
   "cell_type": "code",
   "execution_count": 4,
   "metadata": {},
   "outputs": [],
   "source": [
    "# 把所有参数梯度清零，用随机的梯度来反向传播\n",
    "model.zero_grad()\n",
    "out.backward(torch.randn(1, 10))"
   ]
  },
  {
   "cell_type": "code",
   "execution_count": 5,
   "metadata": {},
   "outputs": [
    {
     "name": "stdout",
     "output_type": "stream",
     "text": [
      "tensor(0.3878, grad_fn=<MseLossBackward>)\n"
     ]
    }
   ],
   "source": [
    "# 演示如何利用反向传播，对模型的参数进行更新\n",
    "out = model(test_data)\n",
    "target = torch.randn(1, 10)\n",
    "criterion = nn.MSELoss()\n",
    "loss = criterion(out, target)\n",
    "print(loss)"
   ]
  },
  {
   "cell_type": "code",
   "execution_count": 6,
   "metadata": {},
   "outputs": [
    {
     "name": "stdout",
     "output_type": "stream",
     "text": [
      "tensor([0., 0., 0., 0., 0., 0.])\n",
      "tensor([-2.6912e-03,  5.1811e-03, -5.9812e-03, -7.1785e-05,  3.1091e-04,\n",
      "        -1.2411e-02])\n"
     ]
    }
   ],
   "source": [
    "# 同样清空模型参数原有累计的梯度\n",
    "model.zero_grad()\n",
    "print(model.conv1.bias.grad)\n",
    "loss.backward()\n",
    "print(model.conv1.bias.grad)"
   ]
  },
  {
   "cell_type": "code",
   "execution_count": 7,
   "metadata": {},
   "outputs": [],
   "source": [
    "# 在实际优化的时候，通常是使用工具而不是手动更新\n",
    "import torch.optim as optim\n",
    "\n",
    "optimizer = optim.SGD(model.parameters(), lr=0.01)\n",
    "out = model(test_data)\n",
    "loss = criterion(out, target)\n",
    "loss.backward()\n",
    "optimizer.step()"
   ]
  },
  {
   "cell_type": "code",
   "execution_count": 8,
   "metadata": {},
   "outputs": [],
   "source": [
    "import torchvision\n",
    "# 注意下列语句会引入pillow module中的PILLOW_VISION，这个包在7.0中已经被移除了，故pip install pillow==6.1\n",
    "import torchvision.transforms as transforms"
   ]
  },
  {
   "cell_type": "markdown",
   "metadata": {},
   "source": [
    "#### torchvision是Pytorch内置数据集，也包含了常用的数据处理工具\n",
    "- torchvision.datasets 包含常用的数据集，例如minist,COCO等等\n",
    "- torchvision.models包含常用的著名网络结构，AlexNet, VGG, ResNet等等\n",
    "- torchvision.transforms是Pytorch中对图像处理的包\n",
    "\n",
    "现列出用于图像处理的transforms中的主要函数\n",
    "<br>transforms.ToTensor()方法一个返回一个可以将shape为(H, W, C)的张量变成(C, H, W)形状的方法\n",
    "<br>transforms.ToPILImage()方法返回一个可以将shape为(C, H, W)的张量变成(H, W, C)形状的方法\n",
    "<br>transforms.Scale(size)方法返回一个可以改变输入图像到指定大小的方法。其中size为图像的最短边长(长或者宽)，该方法是按比例缩放。\n",
    "<br>transforms.Normalize(mean, std): 给定均值和标准差，返回一个可以正则化图形的函数。\n",
    "<br>transforms.Pad(padding, fill=0),padding代表要填充的像素， file代表要填充的颜色，fill默认值为0 "
   ]
  },
  {
   "cell_type": "code",
   "execution_count": 9,
   "metadata": {},
   "outputs": [
    {
     "name": "stdout",
     "output_type": "stream",
     "text": [
      "(1182, 665)\n",
      "(888, 500)\n"
     ]
    },
    {
     "name": "stderr",
     "output_type": "stream",
     "text": [
      "/home/fang/anaconda3/envs/chenguang/lib/python3.7/site-packages/torchvision/transforms/transforms.py:219: UserWarning: The use of the transforms.Scale transform is deprecated, please use transforms.Resize instead.\n",
      "  warnings.warn(\"The use of the transforms.Scale transform is deprecated, \" +\n"
     ]
    }
   ],
   "source": [
    "# 使用Scale示例\n",
    "from PIL import Image\n",
    "scaler = transforms.Scale(500)\n",
    "image = Image.open(\"./example.jpeg\")\n",
    "print(image.size)\n",
    "print(scaler(image).size)"
   ]
  },
  {
   "cell_type": "code",
   "execution_count": 10,
   "metadata": {},
   "outputs": [
    {
     "name": "stdout",
     "output_type": "stream",
     "text": [
      "(665, 1182, 3)\n",
      "tensor([0.1098, 0.1373, 0.2000])\n",
      "tensor([-0.7804, -0.7255, -0.6000])\n"
     ]
    }
   ],
   "source": [
    "# 使用normalize示例\n",
    "import numpy as np\n",
    "image_array = np.asarray(image)\n",
    "print(image_array.shape)\n",
    "image_tensor = transforms.ToTensor()(image_array)\n",
    "image_norm = transforms.Normalize((0.5, 0.5, 0.5), (0.5, 0.5, 0.5))(image_tensor)\n",
    "print(image_tensor[:, 0, 0])\n",
    "print(image_norm[:, 0, 0])"
   ]
  },
  {
   "cell_type": "code",
   "execution_count": 11,
   "metadata": {},
   "outputs": [
    {
     "name": "stdout",
     "output_type": "stream",
     "text": [
      "[[28 41 64]\n",
      " [28 41 64]\n",
      " [28 41 64]\n",
      " [28 41 64]\n",
      " [28 41 64]\n",
      " [28 41 64]]\n",
      "(6, 6, 3)\n",
      "[[ 0  0  0]\n",
      " [28 41 64]\n",
      " [28 41 64]\n",
      " [28 41 64]\n",
      " [28 41 64]\n",
      " [28 41 64]\n",
      " [28 41 64]\n",
      " [ 0  0  0]]\n",
      "(8, 8, 3)\n"
     ]
    }
   ],
   "source": [
    "# 使用Pad示例\n",
    "image_resize = transforms.Resize((6, 6))(image)\n",
    "print(np.asarray(image_resize)[0])\n",
    "print(np.asarray(image_resize).shape)\n",
    "image_pad = transforms.Pad(padding=1, fill=0)(image_resize)\n",
    "print(np.asarray(image_pad)[1])\n",
    "print(np.asarray(image_pad).shape)"
   ]
  },
  {
   "cell_type": "code",
   "execution_count": 12,
   "metadata": {},
   "outputs": [
    {
     "name": "stdout",
     "output_type": "stream",
     "text": [
      "Files already downloaded and verified\n",
      "Files already downloaded and verified\n"
     ]
    }
   ],
   "source": [
    "transform = transforms.Compose([\n",
    "    transforms.ToTensor(),\n",
    "    transforms.Normalize((0.5, 0.5, 0.5), (0.5, 0.5, 0.5))\n",
    "])\n",
    "\n",
    "trainset = torchvision.datasets.CIFAR10(root='./data', train = True, download=True, transform=transform)\n",
    "trainloader = torch.utils.data.DataLoader(trainset, batch_size=4, shuffle=True, num_workers=2)\n",
    "\n",
    "testset = torchvision.datasets.CIFAR10(root='./data', train = False, download=True, transform=transform)\n",
    "testloader = torch.utils.data.DataLoader(testset, batch_size=4, shuffle=False, num_workers=2)"
   ]
  },
  {
   "cell_type": "code",
   "execution_count": 13,
   "metadata": {},
   "outputs": [
    {
     "data": {
      "image/png": "[encoded data removed]",
      "text/plain": [
       "<Figure size 432x288 with 1 Axes>"
      ]
     },
     "metadata": {
      "needs_background": "light"
     },
     "output_type": "display_data"
    },
    {
     "name": "stdout",
     "output_type": "stream",
     "text": [
      "tensor([0, 4, 1, 4])\n"
     ]
    }
   ],
   "source": [
    "# 展示一些数据集中的训练图片\n",
    "import matplotlib.pyplot as plt\n",
    "import numpy as np\n",
    "\n",
    "#function to show an image\n",
    "def image_show(image: torch.Tensor):\n",
    "    image = image / 2  + 0.5 # unnormalize\n",
    "    np_image = image.numpy()\n",
    "    plt.imshow(np.transpose(np_image, (1, 2, 0)))\n",
    "    plt.show()\n",
    "    \n",
    "data_iter = iter(trainloader)\n",
    "images, labels = data_iter.next()\n",
    "image_show(torchvision.utils.make_grid(images))\n",
    "print(labels)"
   ]
  },
  {
   "cell_type": "code",
   "execution_count": 14,
   "metadata": {},
   "outputs": [
    {
     "name": "stdout",
     "output_type": "stream",
     "text": [
      "Classifier(\n",
      "  (conv1): Conv2d(3, 6, kernel_size=(5, 5), stride=(1, 1))\n",
      "  (pool): MaxPool2d(kernel_size=2, stride=2, padding=0, dilation=1, ceil_mode=False)\n",
      "  (conv2): Conv2d(6, 16, kernel_size=(5, 5), stride=(1, 1))\n",
      "  (fc1): Linear(in_features=400, out_features=120, bias=True)\n",
      "  (fc2): Linear(in_features=120, out_features=84, bias=True)\n",
      "  (fc3): Linear(in_features=84, out_features=10, bias=True)\n",
      ")\n"
     ]
    }
   ],
   "source": [
    "# 定义一个新的可以用来分类上述数据的CNN model\n",
    "class Classifier(nn.Module):\n",
    "    def __init__(self):\n",
    "        super(Classifier, self).__init__()\n",
    "        self.conv1 = nn.Conv2d(3, 6, 5)\n",
    "        self.pool = nn.MaxPool2d(2, 2)\n",
    "        self.conv2 = nn.Conv2d(6, 16, 5)\n",
    "        self.fc1 = nn.Linear(16*5*5, 120)\n",
    "        self.fc2 = nn.Linear(120, 84)\n",
    "        self.fc3 = nn.Linear(84, 10)\n",
    "        \n",
    "    def forward(self, x):\n",
    "        x = self.pool(func.relu(self.conv1(x)))\n",
    "        x = self.pool(func.relu(self.conv2(x)))\n",
    "        x = x.view(-1, 16 * 5 * 5)\n",
    "        x = func.relu(self.fc1(x))\n",
    "        x = func.relu(self.fc2(x))\n",
    "        x = self.fc3(x)\n",
    "        return x\n",
    "    \n",
    "model = Classifier()\n",
    "print(model)"
   ]
  },
  {
   "cell_type": "code",
   "execution_count": 22,
   "metadata": {},
   "outputs": [
    {
     "name": "stdout",
     "output_type": "stream",
     "text": [
      "[1,  2000] loss: 1.087\n",
      "[1,  4000] loss: 1.086\n",
      "[1,  6000] loss: 1.108\n",
      "[1,  8000] loss: 1.084\n",
      "[1, 10000] loss: 1.099\n",
      "[1, 12000] loss: 1.112\n",
      "[2,  2000] loss: 1.004\n",
      "[2,  4000] loss: 1.020\n",
      "[2,  6000] loss: 1.031\n",
      "[2,  8000] loss: 1.017\n",
      "[2, 10000] loss: 1.042\n",
      "[2, 12000] loss: 1.038\n",
      "[3,  2000] loss: 0.936\n",
      "[3,  4000] loss: 0.957\n",
      "[3,  6000] loss: 0.980\n",
      "[3,  8000] loss: 0.951\n",
      "[3, 10000] loss: 0.969\n",
      "[3, 12000] loss: 0.985\n"
     ]
    }
   ],
   "source": [
    "# 定义一个损失函数和优化器，再在数据迭代器上训练模型即可\n",
    "criterion = nn.CrossEntropyLoss()\n",
    "optimizer = optim.SGD(model.parameters(), lr=0.001, momentum=0.9)\n",
    "for epoch in range(3):\n",
    "    runniing_loss = 0.0\n",
    "    for i, data in enumerate(trainloader, 0):\n",
    "        inputs, labels = data\n",
    "        optimizer.zero_grad()\n",
    "        outputs = model(inputs)\n",
    "        loss = criterion(outputs, labels)\n",
    "        loss.backward()\n",
    "        optimizer.step()\n",
    "        runniing_loss += loss.item()\n",
    "        if i % 2000 == 1999:\n",
    "            print('[%d, %5d] loss: %.3f' %(epoch + 1, i + 1, runniing_loss / 2000))\n",
    "            runniing_loss = 0.0"
   ]
  },
  {
   "cell_type": "code",
   "execution_count": 15,
   "metadata": {},
   "outputs": [
    {
     "name": "stdout",
     "output_type": "stream",
     "text": [
      "torch.return_types.max(\n",
      "values=tensor([0.1034, 0.1082, 0.1159, 0.1119], grad_fn=<MaxBackward0>),\n",
      "indices=tensor([8, 8, 8, 8]))\n",
      "tensor([0, 4, 1, 4])\n"
     ]
    }
   ],
   "source": [
    "predicted = torch.max(model(images), 1)\n",
    "print(predicted)\n",
    "print(labels)"
   ]
  },
  {
   "cell_type": "code",
   "execution_count": 26,
   "metadata": {},
   "outputs": [
    {
     "name": "stdout",
     "output_type": "stream",
     "text": [
      "Accuracy of the net work on the 10000 test images: 62 %\n"
     ]
    }
   ],
   "source": [
    "# 输出经过训练的模型在测试集上的准确率。\n",
    "correct = 0\n",
    "total = 0\n",
    "with torch.no_grad():\n",
    "    for data in testloader:\n",
    "        images, labels = data\n",
    "        outputs = model(images)\n",
    "        _, predicted = torch.max(outputs, 1)\n",
    "        total += labels.size(0)\n",
    "        correct += (predicted == labels).sum().item()\n",
    "print(\"Accuracy of the net work on the 10000 test images: %d %%\" % (100*correct/total))"
   ]
  },
  {
   "cell_type": "code",
   "execution_count": 16,
   "metadata": {},
   "outputs": [
    {
     "name": "stdout",
     "output_type": "stream",
     "text": [
      "cuda:0\n"
     ]
    }
   ],
   "source": [
    "device = torch.device(\"cuda:0\" if torch.cuda.is_available() else \"cpu\")\n",
    "print(device)"
   ]
  },
  {
   "cell_type": "code",
   "execution_count": 29,
   "metadata": {},
   "outputs": [
    {
     "name": "stdout",
     "output_type": "stream",
     "text": [
      "[1,  2000] loss: 0.879\n",
      "[1,  4000] loss: 0.929\n",
      "[1,  6000] loss: 0.937\n",
      "[1,  8000] loss: 0.935\n",
      "[1, 10000] loss: 0.937\n",
      "[1, 12000] loss: 0.922\n",
      "[2,  2000] loss: 0.843\n",
      "[2,  4000] loss: 0.871\n",
      "[2,  6000] loss: 0.891\n",
      "[2,  8000] loss: 0.883\n",
      "[2, 10000] loss: 0.904\n",
      "[2, 12000] loss: 0.901\n",
      "[3,  2000] loss: 0.799\n",
      "[3,  4000] loss: 0.824\n",
      "[3,  6000] loss: 0.830\n",
      "[3,  8000] loss: 0.899\n",
      "[3, 10000] loss: 0.845\n",
      "[3, 12000] loss: 0.870\n"
     ]
    }
   ],
   "source": [
    "# 尝试使用GPU训练模型\n",
    "model.to(device)\n",
    "optimizer = optim.SGD(model.parameters(), lr=0.001, momentum=0.9)\n",
    "for epoch in range(3):\n",
    "    runniing_loss = 0.0\n",
    "    for i, data in enumerate(trainloader, 0):\n",
    "        inputs, labels = data\n",
    "        optimizer.zero_grad()\n",
    "        inputs, labels = inputs.to(device), labels.to(device)\n",
    "        outputs = model(inputs)\n",
    "        loss = criterion(outputs, labels)\n",
    "        loss.backward()\n",
    "        optimizer.step()\n",
    "        runniing_loss += loss.item()\n",
    "        if i % 2000 == 1999:\n",
    "            print('[%d, %5d] loss: %.3f' %(epoch + 1, i + 1, runniing_loss / 2000))\n",
    "            runniing_loss = 0.0"
   ]
  },
  {
   "cell_type": "markdown",
   "metadata": {},
   "source": [
    "# Pytorch中的数据并行"
   ]
  },
  {
   "cell_type": "markdown",
   "metadata": {},
   "source": [
    "在pytorch中，使用DataParallel可以实现多GPU同时操作数据。"
   ]
  },
  {
   "cell_type": "code",
   "execution_count": 17,
   "metadata": {},
   "outputs": [
    {
     "data": {
      "text/plain": [
       "Classifier(\n",
       "  (conv1): Conv2d(3, 6, kernel_size=(5, 5), stride=(1, 1))\n",
       "  (pool): MaxPool2d(kernel_size=2, stride=2, padding=0, dilation=1, ceil_mode=False)\n",
       "  (conv2): Conv2d(6, 16, kernel_size=(5, 5), stride=(1, 1))\n",
       "  (fc1): Linear(in_features=400, out_features=120, bias=True)\n",
       "  (fc2): Linear(in_features=120, out_features=84, bias=True)\n",
       "  (fc3): Linear(in_features=84, out_features=10, bias=True)\n",
       ")"
      ]
     },
     "execution_count": 17,
     "metadata": {},
     "output_type": "execute_result"
    }
   ],
   "source": [
    "# 先将模型移动到一个GPU中\n",
    "device = torch.device(\"cuda:0\")\n",
    "model.to(device)"
   ]
  },
  {
   "cell_type": "code",
   "execution_count": 18,
   "metadata": {},
   "outputs": [],
   "source": [
    "# 然后将训练数据也移动到GPU中。例如，将inputs移动到GPU上\n",
    "data_iter = iter(trainloader)\n",
    "inputs, labels = data_iter.next()\n",
    "inputs = inputs.to(device)"
   ]
  },
  {
   "cell_type": "code",
   "execution_count": 20,
   "metadata": {},
   "outputs": [],
   "source": [
    "# 设计一个小例子\n",
    "from torch.utils.data import DataLoader, Dataset\n",
    "\n",
    "input_size = 5\n",
    "output_size = 2\n",
    "batch_size = 30\n",
    "data_size = 100\n",
    "\n",
    "# device\n",
    "device = torch.device(\"cuda:0\" if torch.cuda.is_available() else \"cpu\")\n",
    "\n",
    "# 一个实验性的数据集，需要自己实现getitem()方法\n",
    "class RandomDataset(Dataset):\n",
    "    def __init__(self, size, length):\n",
    "        self.length = length\n",
    "        self.data = torch.randn(self.length, size)\n",
    "        \n",
    "    def __getitem__(self, index):\n",
    "        return self.data[index]\n",
    "    \n",
    "    def __len__(self):\n",
    "        return self.length\n",
    "    \n",
    "rand_loader = DataLoader(dataset=RandomDataset(input_size, data_size), batch_size=batch_size, shuffle=True)"
   ]
  },
  {
   "cell_type": "code",
   "execution_count": 21,
   "metadata": {},
   "outputs": [],
   "source": [
    "class Model(nn.Module):\n",
    "    def __init__(self, input_size, output_size):\n",
    "        super(Model, self).__init__()\n",
    "        self.fc = nn.Linear(input_size, output_size)\n",
    "        \n",
    "    def forward(self, x):\n",
    "        outputs = self.fc(x)\n",
    "        print(\"\\tIn Model: input size:\", x.size(), \"output size: \", outputs.size())\n",
    "        return outputs"
   ]
  },
  {
   "cell_type": "code",
   "execution_count": 22,
   "metadata": {},
   "outputs": [
    {
     "data": {
      "text/plain": [
       "DataParallel(\n",
       "  (module): Model(\n",
       "    (fc): Linear(in_features=5, out_features=2, bias=True)\n",
       "  )\n",
       ")"
      ]
     },
     "execution_count": 22,
     "metadata": {},
     "output_type": "execute_result"
    }
   ],
   "source": [
    "model = Model(input_size, output_size)\n",
    "model = nn.DataParallel(model)\n",
    "model.to(device)"
   ]
  },
  {
   "cell_type": "code",
   "execution_count": 23,
   "metadata": {},
   "outputs": [
    {
     "name": "stdout",
     "output_type": "stream",
     "text": [
      "\tIn Model: input_size: torch.Size([30, 5]) output size:  torch.Size([30, 2])\n",
      "Outsize: input size torch.Size([30, 5]) output size torch.Size([30, 2])\n",
      "\tIn Model: input_size: torch.Size([30, 5]) output size:  torch.Size([30, 2])\n",
      "Outsize: input size torch.Size([30, 5]) output size torch.Size([30, 2])\n",
      "\tIn Model: input_size: torch.Size([30, 5]) output size:  torch.Size([30, 2])\n",
      "Outsize: input size torch.Size([30, 5]) output size torch.Size([30, 2])\n",
      "\tIn Model: input_size: torch.Size([10, 5]) output size:  torch.Size([10, 2])\n",
      "Outsize: input size torch.Size([10, 5]) output size torch.Size([10, 2])\n"
     ]
    }
   ],
   "source": [
    "for data in rand_loader:\n",
    "    inputs = data.to(device)\n",
    "    outputs = model(inputs)\n",
    "    print(\"Outsize: input size\", inputs.size(), \"output size\", outputs.size())"
   ]
  },
  {
   "cell_type": "markdown",
   "metadata": {},
   "source": [
    "上述过程，由于编码本脚本的电脑只有一片GPU，所以在一次迭代的时候输入大小为[30, 5]，如果有多个GPU，那么每一个GPU上的输入为[30/gpu_num, 5]，并行运行，然后再合并所有的结果，所以不管几片GPU，输出的大小永远为[30, 2]"
   ]
  },
  {
   "cell_type": "code",
   "execution_count": null,
   "metadata": {},
   "outputs": [],
   "source": []
  }
 ],
 "metadata": {
  "kernelspec": {
   "display_name": "chenguang",
   "language": "python",
   "name": "chenguang"
  },
  "language_info": {
   "codemirror_mode": {
    "name": "ipython",
    "version": 3
   },
   "file_extension": ".py",
   "mimetype": "text/x-python",
   "name": "python",
   "nbconvert_exporter": "python",
   "pygments_lexer": "ipython3",
   "version": "3.7.6"
  }
 },
 "nbformat": 4,
 "nbformat_minor": 4
}
