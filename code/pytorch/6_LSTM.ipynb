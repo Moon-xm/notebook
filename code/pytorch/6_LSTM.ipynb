{
 "cells": [
  {
   "cell_type": "markdown",
   "metadata": {},
   "source": [
    "# Pytorch中的LSTM\n",
    "为了使用pytorch中的LSTM，那么先要认识LSTM的输入输出以及初始化参数\n",
    "- input_size 等同于embedding层的维度\n",
    "- hidden_size 隐藏层的维度，输出维度也一样，每一个时刻的output就是每一个时刻的hidden state\n",
    "- num_layers 堆叠的层数，默认是1层，\n",
    "- bais 内部的仿射运算是否带偏置，默认是True\n",
    "- batch_first 该值默认是False，此时出入的形状是[seq_len, batch_size, input_size],但是通常设置为True\n",
    "- dropout 默认为0，如果非0，那么在除了最后一层的每一层厚添加一个Dropout层\n",
    "- bidirectional 默认为False,选择是否为双向LSTM\n",
    "\n",
    "输入输出格式\n",
    "- input:    [seq_len, batch_size, input_size]\n",
    "- hidden_0: [num_layers$\\times$num_directions, batch_size, hidden_size]\n",
    "- c_0:      [num_layers$\\times$num_directions, batch_size, hidden_size]\n",
    "- output:   [seq_len, batch_size, hidden_size]\n",
    "- hidden_n: [num_layers$\\times$num_directions, batch_size, hidden_size]\n",
    "- c_n:      [num_layers$\\times$num_directions, batch_size, hidden_size]"
   ]
  },
  {
   "cell_type": "code",
   "execution_count": 1,
   "metadata": {},
   "outputs": [],
   "source": [
    "import torch\n",
    "import torch.nn as nn\n",
    "import torch.nn.functional as func\n",
    "import torch.optim as optim"
   ]
  },
  {
   "cell_type": "code",
   "execution_count": 15,
   "metadata": {},
   "outputs": [],
   "source": [
    "# 下面的实验，先将一个长度为5的序列拆分，每一个元素分别作为输入。\n",
    "lstm = nn.LSTM(3, 3)# input size is 3, output size is 3\n",
    "inputs = [torch.randn(1, 3) for _ in range(5)] # 生成一个长度为5的序列\n",
    "hidden = (torch.randn(1, 1, 3), torch.randn(1, 1, 3))\n",
    "for i in inputs:\n",
    "    # 由于整个输入只有一个元素，那么输出也只有一个元素，并且同时输出该长度为1的序列最后时刻的隐藏状态\n",
    "    out, hidden = lstm(i.view(1, 1, -1), hidden)"
   ]
  },
  {
   "cell_type": "code",
   "execution_count": 16,
   "metadata": {},
   "outputs": [
    {
     "name": "stdout",
     "output_type": "stream",
     "text": [
      "tensor([[[ 0.1739,  0.3531, -0.2200]],\n",
      "\n",
      "        [[ 0.1449,  0.3306, -0.1245]],\n",
      "\n",
      "        [[ 0.1511,  0.4159, -0.2037]],\n",
      "\n",
      "        [[ 0.2128,  0.2146, -0.2572]],\n",
      "\n",
      "        [[ 0.2415,  0.2041, -0.1552]]], grad_fn=<StackBackward>)\n",
      "(tensor([[[ 0.2415,  0.2041, -0.1552]]], grad_fn=<StackBackward>), tensor([[[ 0.8400,  0.6427, -0.4190]]], grad_fn=<StackBackward>))\n"
     ]
    }
   ],
   "source": [
    "# 在实际模型训练的时候，肯定是不可能将一个序列拆开，这样就失去了LSTM原本的意义\n",
    "inputs = torch.cat(inputs).view(len(inputs), 1, -1) # Tensor.Size(5, 1, 3)\n",
    "out, hidden = lstm(inputs, hidden)\n",
    "print(out)\n",
    "print(hidden)"
   ]
  },
  {
   "cell_type": "markdown",
   "metadata": {},
   "source": [
    "# 使用LSTM进行序列标注\n",
    "模型输入的句子是$w_1, w_2, \\ldots, w_m$，其中$w_i \\in V$，标签的集合定义为T, $y_i$为$w_i$的标签，用$\\hat{y_i}$表示对单词$w_i$的词性预测。\n",
    "<br>这是一个结构预测模型，我们的输出$\\hat{y_1}, \\hat{y_2}, \\ldots, \\hat{y_m}$,其中$\\hat{y_i} \\in T$\n",
    "<br>\n",
    "模型的运算流程如下，将每一个单词embedding后输入到LSTM中，得到每一个词对应的隐状态$h_i$。同样的，需要对每一个标签进行标号。与word_to_ix字典类似。而$\\hat{y_i}$的计算过程如下\n",
    "$$\\hat{y_i} = argmax_j\\big(logSoftmax(Ah_i + b)\\big)$$\n",
    "### 准备数据"
   ]
  },
  {
   "cell_type": "code",
   "execution_count": 18,
   "metadata": {},
   "outputs": [
    {
     "name": "stdout",
     "output_type": "stream",
     "text": [
      "{'The': 0, 'dog': 1, 'ate': 2, 'the': 3, 'apple': 4, 'Everybody': 5, 'read': 6, 'that': 7, 'book': 8}\n"
     ]
    }
   ],
   "source": [
    "def prepare_sequence(sequence, to_ix):\n",
    "    idxs = [to_ix[w] for w in sequence]\n",
    "    return torch.tensor(idxs, dtype=torch.long)\n",
    "\n",
    "train_data = [\n",
    "    (\"The dog ate the apple\".split(), [\"DET\", \"NN\", \"V\", \"DET\", \"NN\"]),\n",
    "    (\"Everybody read that book\".split(), [\"NN\", \"V\", \"DET\", \"NN\"])\n",
    "]\n",
    "\n",
    "word_to_ix = dict()\n",
    "for sent, labels in train_data:\n",
    "    for word in sent:\n",
    "        if word not in word_to_ix:\n",
    "            word_to_ix[word] = len(word_to_ix)\n",
    "print(word_to_ix)\n",
    "tag_to_ix = {\"DET\": 0, \"NN\": 1, \"V\": 2}\n",
    "EMBEDDING_DIM = 6\n",
    "HIDDEN_DIM = 6"
   ]
  },
  {
   "cell_type": "markdown",
   "metadata": {},
   "source": [
    "### 构建模型"
   ]
  },
  {
   "cell_type": "code",
   "execution_count": 26,
   "metadata": {},
   "outputs": [],
   "source": [
    "class LSTMTagger(nn.Module):\n",
    "    def __init__(self, embedding_dim, hidden_dim, vocab_size, tagset_size):\n",
    "        super(LSTMTagger, self).__init__()\n",
    "        self.hidden_dim = hidden_dim\n",
    "        self.embeddings = nn.Embedding(vocab_size, embedding_dim)\n",
    "        self.lstm = nn.LSTM(embedding_dim, self.hidden_dim)\n",
    "        self.hidden2tag = nn.Linear(self.hidden_dim, tagset_size)\n",
    "        self.hidden = self.init_hidden()\n",
    "        \n",
    "    def init_hidden(self):\n",
    "        return (\n",
    "            torch.zeros(1, 1, self.hidden_dim),\n",
    "            torch.zeros(1, 1, self.hidden_dim)\n",
    "        )\n",
    "    \n",
    "    def forward(self, sentence):\n",
    "        embeds = self.embeddings(sentence)\n",
    "        lstm_out, self.hidden = self.lstm(\n",
    "            embeds.view(len(sentence), 1, -1), self.hidden)\n",
    "        tag_space= self.hidden2tag(lstm_out.view(len(sentence), -1))\n",
    "        tag_score = func.log_softmax(tag_space, dim=1)\n",
    "        return tag_score"
   ]
  },
  {
   "cell_type": "markdown",
   "metadata": {},
   "source": [
    "### 训练模型"
   ]
  },
  {
   "cell_type": "code",
   "execution_count": 34,
   "metadata": {},
   "outputs": [
    {
     "name": "stdout",
     "output_type": "stream",
     "text": [
      "tensor([[-0.9993, -1.2668, -1.0495],\n",
      "        [-1.0269, -1.2444, -1.0391],\n",
      "        [-1.0469, -1.2104, -1.0473],\n",
      "        [-1.0060, -1.1611, -1.1358],\n",
      "        [-0.9603, -1.2339, -1.1207]])\n",
      "tensor([[-1.0216, -1.1727, -1.1073],\n",
      "        [-1.0585, -1.1451, -1.0942],\n",
      "        [-1.0849, -1.1191, -1.0922],\n",
      "        [-1.0385, -1.0590, -1.2067],\n",
      "        [-0.9815, -1.1371, -1.1891]])\n"
     ]
    }
   ],
   "source": [
    "model = LSTMTagger(EMBEDDING_DIM, HIDDEN_DIM, len(word_to_ix), len(tag_to_ix))\n",
    "loss_func = nn.NLLLoss()\n",
    "optimizer = optim.SGD(model.parameters(), lr=0.001)\n",
    "\n",
    "with torch.no_grad():\n",
    "    inputs = prepare_sequence(train_data[0][0], word_to_ix)\n",
    "    tag_score = model(inputs)\n",
    "    print(tag_score)\n",
    "\n",
    "# 迭代训练300次\n",
    "for epoch in range(300):\n",
    "    for sent, tags in train_data:\n",
    "        model.zero_grad()\n",
    "        model.hidden = model.init_hidden()\n",
    "        inputs = prepare_sequence(sent, word_to_ix)\n",
    "        targets = prepare_sequence(tags, tag_to_ix)\n",
    "        tag_score = model(inputs)\n",
    "        loss = loss_func(tag_score, targets)\n",
    "        loss.backward()\n",
    "        optimizer.step()\n",
    "        \n",
    "with torch.no_grad():\n",
    "    inputs = prepare_sequence(train_data[0][0], word_to_ix)\n",
    "    tag_score = model(inputs)\n",
    "    print(tag_score)"
   ]
  }
 ],
 "metadata": {
  "kernelspec": {
   "display_name": "deeplearning",
   "language": "python",
   "name": "deeplearning"
  },
  "language_info": {
   "codemirror_mode": {
    "name": "ipython",
    "version": 3
   },
   "file_extension": ".py",
   "mimetype": "text/x-python",
   "name": "python",
   "nbconvert_exporter": "python",
   "pygments_lexer": "ipython3",
   "version": "3.7.6"
  }
 },
 "nbformat": 4,
 "nbformat_minor": 4
}
