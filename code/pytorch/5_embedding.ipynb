{
 "cells": [
  {
   "cell_type": "markdown",
   "metadata": {},
   "source": [
    "### Pytorch中的词向量\n",
    "最开始的，我们需要制作一个索引字典，字典中每一个词对应一个特殊的索引。\n",
    "<br>词嵌入被存储在一个$|V|\\times D$形状的矩阵中，矩阵的每一行代表了一个词向量。索引在词向量中有一个word_to_ix的字典。\n",
    "<br>我们使用torch.nn.Embedding来实现Embedding,共有两个参数，词汇表的大小和词嵌入的维度。\n",
    "<br>索引这张表的时候，必须使用torch.LongTensor(索引是整数而不是浮点数)"
   ]
  },
  {
   "cell_type": "code",
   "execution_count": 1,
   "metadata": {},
   "outputs": [
    {
     "data": {
      "text/plain": [
       "<torch._C.Generator at 0x119a8aa50>"
      ]
     },
     "execution_count": 1,
     "metadata": {},
     "output_type": "execute_result"
    }
   ],
   "source": [
    "import torch\n",
    "import torch.nn as nn\n",
    "import torch.nn.functional as func\n",
    "import torch.optim as optim\n",
    "\n",
    "torch.manual_seed(1)"
   ]
  },
  {
   "cell_type": "code",
   "execution_count": 2,
   "metadata": {},
   "outputs": [
    {
     "name": "stdout",
     "output_type": "stream",
     "text": [
      "tensor([0])\n",
      "tensor([[ 0.6614,  0.2669,  0.0617,  0.6213, -0.4519]],\n",
      "       grad_fn=<EmbeddingBackward>)\n"
     ]
    }
   ],
   "source": [
    "word_to_ix = {\"hello\":0, \"world\":1}\n",
    "embeddings = nn.Embedding(len(word_to_ix), 5)\n",
    "lookup_tensor = torch.tensor([word_to_ix['hello']], dtype=torch.long)\n",
    "hello_embed = embeddings(lookup_tensor)\n",
    "print(lookup_tensor)\n",
    "print(hello_embed)"
   ]
  },
  {
   "cell_type": "code",
   "execution_count": 3,
   "metadata": {},
   "outputs": [
    {
     "name": "stdout",
     "output_type": "stream",
     "text": [
      "[(['When', 'forty'], 'winters'), (['forty', 'winters'], 'shall'), (['winters', 'shall'], 'besiege')]\n",
      "[523.4607973098755, 520.8036420345306, 518.1669046878815, 515.5523164272308, 512.9573056697845, 510.38124680519104, 507.82253193855286, 505.27843713760376, 502.74983644485474, 500.235050201416]\n"
     ]
    }
   ],
   "source": [
    "CONTEXT_SIZE = 2\n",
    "EMBEDDING_DIM = 10\n",
    "# 我们用莎士比亚的十四行诗 Sonnet 2\n",
    "test_sentence = \"\"\"When forty winters shall besiege thy brow,\n",
    "And dig deep trenches in thy beauty's field,\n",
    "Thy youth's proud livery so gazed on now,\n",
    "Will be a totter'd weed of small worth held:\n",
    "Then being asked, where all thy beauty lies,\n",
    "Where all the treasure of thy lusty days;\n",
    "To say, within thine own deep sunken eyes,\n",
    "Were an all-eating shame, and thriftless praise.\n",
    "How much more praise deserv'd thy beauty's use,\n",
    "If thou couldst answer 'This fair child of mine\n",
    "Shall sum my count, and make my old excuse,'\n",
    "Proving his beauty by succession thine!\n",
    "This were to be new made when thou art old,\n",
    "And see thy blood warm when thou feel'st it cold.\"\"\".split()\n",
    "# 应该对输入变量进行标记，但暂时忽略。\n",
    "# 创建一系列的元组，每个元组都是([ word_i-2, word_i-1 ], target word)的形式。\n",
    "trigrams = [([test_sentence[i], test_sentence[i + 1]], test_sentence[i + 2])\n",
    "            for i in range(len(test_sentence) - 2)]\n",
    "# 输出前3行，先看下是什么样子。\n",
    "print(trigrams[:3])\n",
    "\n",
    "vocab = set(test_sentence)\n",
    "word_to_ix = {word: i for i, word in enumerate(vocab)}\n",
    "\n",
    "class NGramLanguageModeler(nn.Module):\n",
    "\n",
    "    def __init__(self, vocab_size, embedding_dim, context_size):\n",
    "        super(NGramLanguageModeler, self).__init__()\n",
    "        self.embeddings = nn.Embedding(vocab_size, embedding_dim)\n",
    "        self.linear1 = nn.Linear(context_size * embedding_dim, 128)\n",
    "        self.linear2 = nn.Linear(128, vocab_size)\n",
    "\n",
    "    def forward(self, inputs):\n",
    "        embeds = self.embeddings(inputs).view((1, -1))\n",
    "        out = func.relu(self.linear1(embeds))\n",
    "        out = self.linear2(out)\n",
    "        log_probs = func.log_softmax(out, dim=1)\n",
    "        return log_probs\n",
    "\n",
    "losses = []\n",
    "loss_function = nn.NLLLoss()\n",
    "model = NGramLanguageModeler(len(vocab), EMBEDDING_DIM, CONTEXT_SIZE)\n",
    "optimizer = optim.SGD(model.parameters(), lr=0.001)\n",
    "\n",
    "for epoch in range(10):\n",
    "    total_loss = 0\n",
    "    for context, target in trigrams:\n",
    "\n",
    "        # 步骤 1\\. 准备好进入模型的数据 (例如将单词转换成整数索引,并将其封装在变量中)\n",
    "        context_idxs = torch.tensor([word_to_ix[w] for w in context], dtype=torch.long)\n",
    "\n",
    "        # 步骤 2\\. 回调torch累乘梯度\n",
    "        # 在传入一个新实例之前，需要把旧实例的梯度置零。\n",
    "        model.zero_grad()\n",
    "\n",
    "        # 步骤 3\\. 继续运行代码，得到单词的log概率值。\n",
    "        log_probs = model(context_idxs)\n",
    "\n",
    "        # 步骤 4\\. 计算损失函数（再次注意，Torch需要将目标单词封装在变量里）。\n",
    "        loss = loss_function(log_probs, torch.tensor([word_to_ix[target]], dtype=torch.long))\n",
    "\n",
    "        # 步骤 5\\. 反向传播更新梯度\n",
    "        loss.backward()\n",
    "        optimizer.step()\n",
    "\n",
    "        # 通过调tensor.item()得到单个Python数值。\n",
    "        total_loss += loss.item()\n",
    "    losses.append(total_loss)\n",
    "print(losses)  # 用训练数据每次迭代，损失函数都会下降。"
   ]
  },
  {
   "cell_type": "code",
   "execution_count": 4,
   "metadata": {},
   "outputs": [],
   "source": [
    "# save pretrained embedding parameters\n",
    "torch.save(model.state_dict()['embeddings.weight'], \"Embedding.weight\")\n",
    "\n",
    "# init a new embedding layer with pretrained parameters\n",
    "embeddings = nn.Embedding.from_pretrained(torch.load(\"Embedding.weight\"))"
   ]
  }
 ],
 "metadata": {
  "kernelspec": {
   "display_name": "deeplearning",
   "language": "python",
   "name": "deeplearning"
  },
  "language_info": {
   "codemirror_mode": {
    "name": "ipython",
    "version": 3
   },
   "file_extension": ".py",
   "mimetype": "text/x-python",
   "name": "python",
   "nbconvert_exporter": "python",
   "pygments_lexer": "ipython3",
   "version": "3.7.6"
  }
 },
 "nbformat": 4,
 "nbformat_minor": 4
}
