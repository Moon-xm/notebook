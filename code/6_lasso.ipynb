{
 "cells": [
  {
   "cell_type": "markdown",
   "metadata": {},
   "source": [
    "# Lasso示例\n",
    "本示例采用角坐标下降法对参数进行优化"
   ]
  },
  {
   "cell_type": "code",
   "execution_count": 1,
   "metadata": {},
   "outputs": [],
   "source": [
    "import itertools\n",
    "import numpy as np"
   ]
  },
  {
   "cell_type": "code",
   "execution_count": 2,
   "metadata": {},
   "outputs": [],
   "source": [
    "class Lasso():\n",
    "    def __init__(self, lambd=0.2, threshold=0.2, iter_max=1000):\n",
    "        self.lambd = lambd\n",
    "        self.threshold = threshold\n",
    "        self.iter_max = iter_max\n",
    "        self.bias = np.random.rand(1)\n",
    "        self.w = None\n",
    "    \n",
    "    def fit(self, x: np.ndarray, y: np.ndarray):\n",
    "        if not self.w or self.w.shape[0] != x.shape[1]:\n",
    "            self.w = np.ones((x.shape[1], 1))\n",
    "        rss = self.rss(x, y)\n",
    "        ns = itertools.repeat(1, self.iter_max)\n",
    "        for it in ns:\n",
    "            for k in range(x.shape[1]):\n",
    "                # 计算p_k 以及m_k\n",
    "                m_k = (x[:, k]**2).sum()\n",
    "                self.w[k, 0] = 0\n",
    "                p_k = (x[:, k] * (y.reshape(-1, 1) - \n",
    "                        x.dot(self.w) - self.bias).reshape(-1)).sum()\n",
    "                if p_k < self.lambd / 2:\n",
    "                    self.w[k, 0] = (p_k + self.lambd / 2) / m_k\n",
    "                elif p_k > self.lambd / 2:\n",
    "                    self.w[k, 0] = (p_k - self.lambd / 2) / m_k\n",
    "            self.bias = (y.reshape(-1, 1) - x.dot(self.w)).mean()\n",
    "            rss_cur = self.rss(x, y)\n",
    "            if abs(rss - rss_cur) < self.threshold:\n",
    "                print(\"training over\")\n",
    "                break\n",
    "            rss = rss_cur\n",
    "    \n",
    "    def rss(self, x: np.ndarray, y: np.ndarray):\n",
    "        errors = y.reshape(-1, 1) - x.dot(self.w) - self.bias\n",
    "        return errors.T.dot(errors) / x.shape[0]\n",
    "    \n",
    "    def regression(self, x):\n",
    "        return x.dot(self.w) + self.bias"
   ]
  },
  {
   "cell_type": "code",
   "execution_count": 3,
   "metadata": {},
   "outputs": [],
   "source": [
    "true_w = np.array([1, 4, 2, 3]).reshape(-1, 1)\n",
    "true_b = 1\n",
    "x = 3 * np.random.randn(1000, 4)\n",
    "y = (x.dot(true_w) + true_b).reshape(-1) + np.random.randn(x.shape[0])"
   ]
  },
  {
   "cell_type": "code",
   "execution_count": 4,
   "metadata": {},
   "outputs": [
    {
     "name": "stdout",
     "output_type": "stream",
     "text": [
      "training over\n"
     ]
    }
   ],
   "source": [
    "model = Lasso()\n",
    "model.fit(x, y)"
   ]
  },
  {
   "cell_type": "code",
   "execution_count": 5,
   "metadata": {},
   "outputs": [
    {
     "data": {
      "text/plain": [
       "array([[0.99855723],\n",
       "       [3.99934401],\n",
       "       [1.99349681],\n",
       "       [3.0050426 ]])"
      ]
     },
     "execution_count": 5,
     "metadata": {},
     "output_type": "execute_result"
    }
   ],
   "source": [
    "model.w"
   ]
  },
  {
   "cell_type": "code",
   "execution_count": 6,
   "metadata": {},
   "outputs": [
    {
     "data": {
      "text/plain": [
       "0.9853726645943969"
      ]
     },
     "execution_count": 6,
     "metadata": {},
     "output_type": "execute_result"
    }
   ],
   "source": [
    "model.bias"
   ]
  }
 ],
 "metadata": {
  "kernelspec": {
   "display_name": "deeplearning",
   "language": "python",
   "name": "deeplearning"
  },
  "language_info": {
   "codemirror_mode": {
    "name": "ipython",
    "version": 3
   },
   "file_extension": ".py",
   "mimetype": "text/x-python",
   "name": "python",
   "nbconvert_exporter": "python",
   "pygments_lexer": "ipython3",
   "version": "3.7.6"
  }
 },
 "nbformat": 4,
 "nbformat_minor": 4
}
