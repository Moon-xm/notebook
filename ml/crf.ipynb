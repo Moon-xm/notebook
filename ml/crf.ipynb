{
 "cells": [
  {
   "cell_type": "markdown",
   "metadata": {},
   "source": [
    "# Conditional Random Field"
   ]
  },
  {
   "cell_type": "markdown",
   "metadata": {},
   "source": [
    "本笔记参考:\n",
    "- 李航《统计机器学习》\n",
    "- [知乎文章](https://zhuanlan.zhihu.com/p/34261803)\n",
    "- [知乎文章](https://zhuanlan.zhihu.com/p/37163081)"
   ]
  },
  {
   "cell_type": "markdown",
   "metadata": {},
   "source": [
    "在介绍条件随机场之前，需要先给出无向图中团与最大团的的定义\n",
    "> 无向图$G$中任何两个节点均有边连接的节点子集被称为团。若$C$是无向图$G$的一个团，并且不能再加进任何一个$G$的节点使其成为一个更大的团，则称次$C$为最大团"
   ]
  },
  {
   "cell_type": "markdown",
   "metadata": {},
   "source": [
    "广义的CRF\n",
    "> 设$X$和$Y$是随机变量，$P(Y|X)$是给定$X$的条件下$Y$的概率分布, 若随机变量$Y$构成一个由无向图$G = (V, E)$表示的条件随机场， 即\n",
    "> $$\n",
    "P(Y_v|X, Y_w, w\\not =v) = P(Y_v|X, Y_w, w \\sim v)\\tag{1}\n",
    "$$\n",
    "> 对任意节点$v$成立，则称条件概率分布$P(Y|X)$为条件随机场"
   ]
  },
  {
   "cell_type": "markdown",
   "metadata": {},
   "source": [
    "公式(1)中$w\\sim v$表示在图$G$中与节点$v$有边连接的所有节点$w$，$w\\not= v$表示节点$v$以外的所有点。$Y_w$与$Y_v$是节点$v$与$w$对应的随机变量。"
   ]
  },
  {
   "cell_type": "markdown",
   "metadata": {},
   "source": [
    "在广义的CRF定义中，没有要求$X$和$Y$具有相同的结构。而进行序列标注任务时$X, Y$是同形状的。这种情况被称为线性链条件随机场。"
   ]
  },
  {
   "cell_type": "markdown",
   "metadata": {},
   "source": [
    "线性连条件随机场\n",
    "> 设$X = (X_1, X_2, \\ldots, X_n), \\ Y = (Y_1, Y_2, \\ldots, Y_n)$均为线性链表示的随机变量序列，若给定随机变量序列$X$的条件下，随机变量序列$Y$的条件概率分布$P(Y|X)$构成条件随机场，满足马尔可夫性\n",
    "> $$\n",
    "P(Y_i|X, Y_1, \\ldots, Y_{i-1}, Y_{i+1}, \\ldots, Y_n) = \n",
    "P(Y_i|X, Y_{i-1}, Y_{i + 1})\\tag{2}\n",
    "$$\n",
    "> 则称$P(Y|X)$为线性链条件随机场，在标注问题中，$X$表示输入观测序列，$Y$表示对应的输出标记序列或状态序列"
   ]
  },
  {
   "cell_type": "markdown",
   "metadata": {},
   "source": [
    "根据马尔科夫成对性，可以对给出的线性链条件随机场$P(Y|X)$的因子式进行分解，各因子是定义在相邻两个节点上的势函数."
   ]
  },
  {
   "cell_type": "markdown",
   "metadata": {},
   "source": [
    "$$\n",
    "P(y|x) = \\frac{1}{Z(X)}\\exp\\left(\\displaystyle\\sum_{i, k}\\lambda_kt_k(y_{i-1}, y_i, x, i) + \\sum_{i, l}\\mu_ls_l(y_i, x, i) \\right)\\tag{3}\n",
    "$$"
   ]
  },
  {
   "cell_type": "markdown",
   "metadata": {},
   "source": [
    "其中\n",
    "$$\n",
    "Z(x) = \\displaystyle\\sum_y\\exp\\left(\\displaystyle\\sum_{i, k}\\lambda_kt_k(y_{i-1}, y_i, x, i) + \\sum_{i, l}\\mu_ls_l(y_i, x, i) \\right)\\tag{4}\n",
    "$$"
   ]
  },
  {
   "cell_type": "markdown",
   "metadata": {},
   "source": [
    "式中，$t_k$和$s_l$是特征函数，$\\lambda_k$和$\\mu_l$是对应的权值,公式(3),(4)联合起来，实际上是将对特征抽取后的值进行归一化处理。"
   ]
  },
  {
   "cell_type": "markdown",
   "metadata": {},
   "source": [
    "对一个CRF模型进行训练，实际上就是为认为设定的特征函数寻找最优的权重。\n",
    "\n",
    "CRF还有非常多的内容，但这都不是现在应该关注的重点，现在应该记住公式(3)、(4)去看[LSTM + CRF](http://pytorch123.com/FifthSection/Dynamic_Desicion_Bi-LSTM/),结合代码，能够快速理解CRF"
   ]
  },
  {
   "cell_type": "markdown",
   "metadata": {},
   "source": [
    "**如果将来有机会深入学习概率图模型，将更新本笔记**"
   ]
  }
 ],
 "metadata": {
  "kernelspec": {
   "display_name": "deeplearning",
   "language": "python",
   "name": "deeplearning"
  },
  "language_info": {
   "codemirror_mode": {
    "name": "ipython",
    "version": 3
   },
   "file_extension": ".py",
   "mimetype": "text/x-python",
   "name": "python",
   "nbconvert_exporter": "python",
   "pygments_lexer": "ipython3",
   "version": "3.7.6"
  }
 },
 "nbformat": 4,
 "nbformat_minor": 4
}
