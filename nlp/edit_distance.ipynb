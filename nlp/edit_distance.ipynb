{
 "cells": [
  {
   "cell_type": "markdown",
   "metadata": {},
   "source": [
    "# 编辑距离"
   ]
  },
  {
   "cell_type": "markdown",
   "metadata": {},
   "source": [
    "编辑距离在1965年提出, 是用来度量两个序列相似程度的指标。通俗地来讲，编辑距离指的是在两个单词$<w_1, w_2>$之间，由其中一个单词$w_1$转换为另一个单词$w_2$所需要的最少**单字符编辑操作**次数。"
   ]
  },
  {
   "cell_type": "markdown",
   "metadata": {},
   "source": [
    "在这里定义的单字符编辑操作有且仅有三种：\n",
    "\n",
    "- 插入\n",
    "- 删除\n",
    "- 替换"
   ]
  },
  {
   "cell_type": "markdown",
   "metadata": {},
   "source": [
    "譬如，\"carry\" 和 \"carries\" 这两个单词，由 \"carry\" 转换为 \"carries\" 需要的最少单字符编辑操作有：\n",
    "\n",
    "1. carry  -> carri\n",
    "2. carri  -> carris\n",
    "3. carrie -> carries\n",
    "\n",
    "因此，\"carry\" 和 \"carries\" 这两个单词之间的编辑距离为 3 。"
   ]
  },
  {
   "cell_type": "markdown",
   "metadata": {},
   "source": [
    "## 定义\n",
    "\n",
    "我们将两个字符串$a, b$的 Levenshtein Distance 表示为$lev_{a, b}(|a|, |b|)$，其中$|a|$ 和$|b|$ 分别对应$a, b$的长度。那么，在这里两个字符串$a, b$的编辑距离，即$lev_{a, b}(|a|, |b|)$可用如下的数学语言描述："
   ]
  },
  {
   "cell_type": "markdown",
   "metadata": {},
   "source": [
    "$$\n",
    "\\text{lev}_{a, b}(i, j)  = \n",
    "\\begin{cases}\n",
    "\\max(i, j) &\\text{if}\\ \\min(i, j) = 0,\\\\\n",
    "\\min\\begin{cases}\n",
    "\\text{lev}_{a, b}(i-1, j) + 1\\\\\n",
    "\\text{lev}_{a, b}(i, j-1) + 1\\\\\n",
    "\\text{lev}_{a, b}(i-1, j-1) + 1(a_i\\not=b_j)\\\\\n",
    "\\end{cases}&otherwise\n",
    "\\end{cases}\n",
    "$$"
   ]
  },
  {
   "cell_type": "markdown",
   "metadata": {},
   "source": [
    "- 定义$\\text{lev}_{a, b}(i, j)$是指a中第i个字符和b中第j个字符之间的距离。值得注意的是，字符串的下标从1开始，只有空字符串从0开始。\n",
    "- 当$\\min(i,j) \\not= 0$时，$\\text{lev}_{a, b}(i, j)$为以下三种情况的最小值\n",
    "  1. $\\text{lev}_{a, b}(i-1, j)+1$ 删除\n",
    "  2. $\\text{lev}_{a, b}(i, j-1)+1$ 插入\n",
    "  3. $\\text{lev}_{a, b}(i-1, j-1)+1(a_i\\not=b_j)$ 将$a_i$替换成$b_j$\n",
    "- $1(a_i\\not=b_j)$是一个指示函数，当$a_i\\not=b_j$成立的时候取值为1"
   ]
  },
  {
   "cell_type": "markdown",
   "metadata": {},
   "source": [
    "## 递归解法"
   ]
  },
  {
   "cell_type": "code",
   "execution_count": 1,
   "metadata": {},
   "outputs": [],
   "source": [
    "def lev_dist_1(string1: str, string2: str):\n",
    "    if len(string1) == 0 or len(string2) == 0:\n",
    "        return max(len(string1), len(string2))\n",
    "    if string1 == string2:\n",
    "        return 0\n",
    "    if string1[-1] == string2[-1]:\n",
    "        flag = 0\n",
    "    else:\n",
    "        flag = 1\n",
    "    return min(lev_dist_1(string1[:-1], string2) + 1,\n",
    "                lev_dist_1(string1, string2[:-1]) + 1,\n",
    "                lev_dist_1(string1[:-1], string2[:-1]) + flag)"
   ]
  },
  {
   "cell_type": "code",
   "execution_count": 2,
   "metadata": {},
   "outputs": [
    {
     "data": {
      "text/plain": [
       "2"
      ]
     },
     "execution_count": 2,
     "metadata": {},
     "output_type": "execute_result"
    }
   ],
   "source": [
    "lev_dist_1('abcd', 'abdc')"
   ]
  },
  {
   "cell_type": "markdown",
   "metadata": {},
   "source": [
    "## 动态规划"
   ]
  },
  {
   "cell_type": "code",
   "execution_count": 3,
   "metadata": {},
   "outputs": [],
   "source": [
    "import numpy as np\n",
    "def lev_dist_2(string1: str, string2: str):\n",
    "    matrix = np.zeros((len(string1) + 1, len(string2) + 1), dtype=np.int)\n",
    "    matrix[0] = np.arange(len(string2) + 1)\n",
    "    matrix[:, 0] = np.arange(len(string1) + 1)\n",
    "    for i in range(1, len(string1) + 1):\n",
    "        for j in range(1, len(string2) + 1):\n",
    "            if string1[i-1] == string2[j-1]:\n",
    "                flag = 0\n",
    "            else:\n",
    "                flag = 1\n",
    "            matrix[i, j] = np.min([matrix[i - 1, j] + 1, \n",
    "                                    matrix[i, j - j] + 1,\n",
    "                                    matrix[i - 1, j - 1] + flag])\n",
    "    return matrix[-1, -1]"
   ]
  },
  {
   "cell_type": "code",
   "execution_count": 4,
   "metadata": {},
   "outputs": [
    {
     "data": {
      "text/plain": [
       "2"
      ]
     },
     "execution_count": 4,
     "metadata": {},
     "output_type": "execute_result"
    }
   ],
   "source": [
    "lev_dist_2(\"abcd\", \"abdc\")"
   ]
  }
 ],
 "metadata": {
  "kernelspec": {
   "display_name": "deeplearning",
   "language": "python",
   "name": "deeplearning"
  },
  "language_info": {
   "codemirror_mode": {
    "name": "ipython",
    "version": 3
   },
   "file_extension": ".py",
   "mimetype": "text/x-python",
   "name": "python",
   "nbconvert_exporter": "python",
   "pygments_lexer": "ipython3",
   "version": "3.7.6"
  }
 },
 "nbformat": 4,
 "nbformat_minor": 4
}
